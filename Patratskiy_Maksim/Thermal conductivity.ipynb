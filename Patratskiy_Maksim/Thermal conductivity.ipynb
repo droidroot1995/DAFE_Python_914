{
 "cells": [
  {
   "cell_type": "code",
   "execution_count": 3,
   "metadata": {},
   "outputs": [],
   "source": [
    "import numpy as np\n",
    "import matplotlib.pyplot as plt"
   ]
  },
  {
   "cell_type": "markdown",
   "metadata": {},
   "source": [
    "# Thermal conductivity"
   ]
  },
  {
   "cell_type": "code",
   "execution_count": 45,
   "metadata": {},
   "outputs": [],
   "source": [
    "class thermalConductivityExplicit():\n",
    "    def __init__(self):\n",
    "        # начальные парпаметры\n",
    "        self.L = 1\n",
    "        self.lam = 46\n",
    "        self.ro = 7800\n",
    "        self.C = 460\n",
    "        self.T0 = 300\n",
    "        self.Tl = 600\n",
    "        self.Tr = 400\n",
    "        \n",
    "        \n",
    "        self.delta = 100\n",
    "        \n",
    "        self.timeOfExperience = 60\n",
    "        self.tau = self.timeOfExperience / 10000\n",
    "        self.h = 0.001\n",
    "        \n",
    "        self.T = [self.T0 for i in range(self.delta)]\n",
    "        self.Tn = [self.T0 for i in range(self.delta)]\n",
    "        \n",
    "        self.T[0] = self.Tl\n",
    "        self.T[-1] = self.Tr\n",
    "        \n",
    "        self.Tn[0] = self.Tl\n",
    "        self.Tn[-1] = self.Tr\n",
    "         \n",
    "        self.coeff = self.lam * self.tau / self.ro / self.C / (self.h**2)\n",
    "        \n",
    "    def updateTemperatureDot(self, i):\n",
    "        self.T[i] = self.Tn[i] + self.coeff * (self.Tn[i+1] - 2*self.Tn[i] + self.Tn[i-1])\n",
    "    \n",
    "    def updateTemperatureArray(self):\n",
    "        for i in range(1, len(self.T)-1, 1):\n",
    "            self.updateTemperatureDot(i)\n",
    "        self.Tn = self.T.copy()\n",
    "\n",
    "        \n",
    "    def conductExperiment(self):\n",
    "        t = 0\n",
    "        while t <= self.timeOfExperience:\n",
    "                self.updateTemperatureArray()\n",
    "                t+=self.tau\n",
    "    \n",
    "    def getT(self):\n",
    "        return self.T\n",
    "\n",
    "ExperimentExp = thermalConductivityExplicit()"
   ]
  },
  {
   "cell_type": "code",
   "execution_count": 46,
   "metadata": {},
   "outputs": [
    {
     "data": {
      "text/plain": [
       "[<matplotlib.lines.Line2D at 0x2931430f2e0>]"
      ]
     },
     "execution_count": 46,
     "metadata": {},
     "output_type": "execute_result"
    },
    {
     "data": {
      "image/png": "[encoded data removed]",
      "text/plain": [
       "<Figure size 432x288 with 1 Axes>"
      ]
     },
     "metadata": {
      "needs_background": "light"
     },
     "output_type": "display_data"
    }
   ],
   "source": [
    "ExperimentExp.conductExperiment()\n",
    "x = np.linspace(0, 100, 100)\n",
    "y = ExperimentExp.getT()\n",
    "plt.plot(x, y)"
   ]
  },
  {
   "cell_type": "code",
   "execution_count": 47,
   "metadata": {},
   "outputs": [],
   "source": [
    "class thermalConductivityImplicit():\n",
    "    def __init__(self):\n",
    "        # начальные парпаметры\n",
    "        self.L = 0.1\n",
    "        self.lam = 46\n",
    "        self.ro = 7800\n",
    "        self.C = 460\n",
    "        self.T0 = 300\n",
    "        self.Tl = 600\n",
    "        self.Tr = 400\n",
    "        \n",
    "        \n",
    "        self.delta = 100\n",
    "        \n",
    "        self.timeOfExperience = 60\n",
    "        self.tau = self.timeOfExperience / self.delta\n",
    "        self.h = self.L / self.delta\n",
    "        \n",
    "        self.T = [self.T0 for i in range(self.delta)]\n",
    "        self.T[0] = self.Tl\n",
    "        self.T[-1] = self.Tr\n",
    "        \n",
    "        self.alpha = [0 for i in range(self.delta)]\n",
    "        self.betta = [self.T[0] for i in range(self.delta)]  \n",
    "        \n",
    "    def updateAlphaBetta(self, i):\n",
    "        Ai = Ci = self.lam / self.h**2\n",
    "        Bi = 2 * Ai + self.C * self.ro / self.tau\n",
    "        \n",
    "        Fi = - self.ro * self.C / self.tau * self.T[i]\n",
    "        \n",
    "        self.alpha[i] = Ai / (Bi - self.alpha[i - 1] * Ci)\n",
    "        self.betta[i] = (Ci * self.betta[i - 1] - Fi) / (Bi - self.alpha[i - 1] * Ci)\n",
    "        \n",
    "    def updateTemperatureDot(self, i):\n",
    "        self.T[i] = self.alpha[i] * self.T[i + 1] + self.betta[i]\n",
    "        \n",
    "    \n",
    "    def updateTemperatureArray(self):\n",
    "        self.alpha = [0 for i in range(self.delta)]\n",
    "        self.betta = [self.T[0] for i in range(self.delta)]\n",
    "        \n",
    "        for i in range(1, len(self.T)-1, 1):\n",
    "            self.updateAlphaBetta(i)\n",
    "        \n",
    "        for i in range(len(self.T)-2, 0, -1):\n",
    "                self.updateTemperatureDot(i)\n",
    "       \n",
    "    def conductExperiment(self):\n",
    "        t = 0\n",
    "        while t <= self.timeOfExperience:\n",
    "                self.updateTemperatureArray()\n",
    "                t+=self.tau\n",
    "    \n",
    "    def getT(self):\n",
    "        return self.T\n",
    "\n",
    "ExperimentImp = thermalConductivityImplicit()"
   ]
  },
  {
   "cell_type": "code",
   "execution_count": 19,
   "metadata": {},
   "outputs": [
    {
     "data": {
      "text/plain": [
       "[<matplotlib.lines.Line2D at 0x29313f2f2e0>]"
      ]
     },
     "execution_count": 19,
     "metadata": {},
     "output_type": "execute_result"
    },
    {
     "data": {
      "image/png": "[encoded data removed]",
      "text/plain": [
       "<Figure size 432x288 with 1 Axes>"
      ]
     },
     "metadata": {
      "needs_background": "light"
     },
     "output_type": "display_data"
    }
   ],
   "source": [
    "x = np.linspace(0, 100, 100)\n",
    "y = ExperimentImp.getT()\n",
    "plt.plot(x, y)"
   ]
  },
  {
   "cell_type": "code",
   "execution_count": 48,
   "metadata": {},
   "outputs": [
    {
     "data": {
      "text/plain": [
       "[<matplotlib.lines.Line2D at 0x2931426da60>]"
      ]
     },
     "execution_count": 48,
     "metadata": {},
     "output_type": "execute_result"
    },
    {
     "data": {
      "image/png": "[encoded data removed]",
      "text/plain": [
       "<Figure size 432x288 with 1 Axes>"
      ]
     },
     "metadata": {
      "needs_background": "light"
     },
     "output_type": "display_data"
    }
   ],
   "source": [
    "ExperimentImp.conductExperiment()\n",
    "x = np.linspace(0, 100, 100)\n",
    "y = ExperimentImp.getT()\n",
    "plt.plot(x, y)"
   ]
  }
 ],
 "metadata": {
  "kernelspec": {
   "display_name": "Python 3",
   "language": "python",
   "name": "python3"
  },
  "language_info": {
   "codemirror_mode": {
    "name": "ipython",
    "version": 3
   },
   "file_extension": ".py",
   "mimetype": "text/x-python",
   "name": "python",
   "nbconvert_exporter": "python",
   "pygments_lexer": "ipython3",
   "version": "3.8.3"
  }
 },
 "nbformat": 4,
 "nbformat_minor": 4
}

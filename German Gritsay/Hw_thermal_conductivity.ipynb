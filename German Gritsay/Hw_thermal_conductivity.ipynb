{
 "cells": [
  {
   "cell_type": "markdown",
   "metadata": {},
   "source": [
    "### Реализовать численное решение уравнения теплопроводности с помощью метода конечных разностей для представленного выше случая, построить график распределения температуры по толщине пластины."
   ]
  },
  {
   "cell_type": "code",
   "execution_count": 1,
   "metadata": {},
   "outputs": [],
   "source": [
    "import numpy as np\n",
    "import matplotlib.pyplot as plt"
   ]
  },
  {
   "cell_type": "code",
   "execution_count": 2,
   "metadata": {},
   "outputs": [],
   "source": [
    "L = 1\n",
    "lmd = 46\n",
    "Ro = 7800\n",
    "C = 460\n",
    "T0 = 300\n",
    "Tl = 600\n",
    "Tr = 400\n",
    "        \n",
    "delta = 100\n",
    "time_exp = 60\n",
    "tau = time_exp / 10000\n",
    "h = 0.001"
   ]
  },
  {
   "cell_type": "code",
   "execution_count": 3,
   "metadata": {},
   "outputs": [],
   "source": [
    "T = [T0 for i in range(delta)]\n",
    "Tn = [T0 for i in range(delta)]\n",
    "        \n",
    "T[0] = Tl\n",
    "T[-1] = Tr\n",
    "        \n",
    "Tn[0] = Tl\n",
    "Tn[-1] = Tr\n",
    "         \n",
    "coeff = lmd * tau / Ro / C / (h**2)"
   ]
  },
  {
   "cell_type": "code",
   "execution_count": 4,
   "metadata": {},
   "outputs": [],
   "source": [
    "def Experiment(T, Tn, coeff, tau, time_exp):\n",
    "    t = 0\n",
    "    while t <= time_exp:\n",
    "        for i in range(1, len(T)-1, 1):\n",
    "            T[i] = Tn[i] + coeff * (Tn[i+1] - 2 * Tn[i] + Tn[i-1])\n",
    "        Tn = T.copy()\n",
    "        t += tau"
   ]
  },
  {
   "cell_type": "code",
   "execution_count": 5,
   "metadata": {},
   "outputs": [
    {
     "data": {
      "text/plain": [
       "[<matplotlib.lines.Line2D at 0x26bd4486100>]"
      ]
     },
     "execution_count": 5,
     "metadata": {},
     "output_type": "execute_result"
    },
    {
     "data": {
      "image/png": "[encoded data removed]",
      "text/plain": [
       "<Figure size 432x288 with 1 Axes>"
      ]
     },
     "metadata": {
      "needs_background": "light"
     },
     "output_type": "display_data"
    }
   ],
   "source": [
    "Experiment(T, Tn, coeff, tau, time_exp)\n",
    "\n",
    "x = np.linspace(0, 100, 100)\n",
    "y = T\n",
    "\n",
    "plt.plot(x, y)"
   ]
  },
  {
   "cell_type": "code",
   "execution_count": 6,
   "metadata": {},
   "outputs": [],
   "source": [
    "L = 0.1\n",
    "lam = 46\n",
    "ro = 7800\n",
    "C = 460\n",
    "T0 = 300\n",
    "Tl = 600\n",
    "Tr = 400\n",
    "\n",
    "delta = 100\n",
    "        \n",
    "timeOfExperience = 60\n",
    "tau = timeOfExperience / delta\n",
    "h = L / delta"
   ]
  },
  {
   "cell_type": "code",
   "execution_count": 7,
   "metadata": {},
   "outputs": [],
   "source": [
    "T = [T0 for i in range(delta)]\n",
    "T[0] = Tl\n",
    "T[-1] = Tr\n",
    "        \n",
    "alpha = [0 for i in range(delta)]\n",
    "betta = [T[0] for i in range(delta)] "
   ]
  },
  {
   "cell_type": "code",
   "execution_count": 8,
   "metadata": {},
   "outputs": [],
   "source": [
    "def update_AB(i, T, alpha, betta):\n",
    "    A = C = lam / h**2\n",
    "    B = 2 * A + C * ro / tau\n",
    "        \n",
    "    F = ro * C / tau * T[i]\n",
    "        \n",
    "    alpha[i] = A / (B - alpha[i - 1] * C)\n",
    "    betta[i] = (C * betta[i - 1] - F) / (B - alpha[i - 1] * C)\n",
    "        \n",
    "    \n",
    "def update_temp(delta, T, alpha, betta):\n",
    "    alpha = [0 for i in range(delta)]\n",
    "    betta = [T[0] for i in range(delta)]\n",
    "        \n",
    "    for i in range(1, len(T)-1, 1):\n",
    "        update_AB(i, T, alpha, betta)\n",
    "        \n",
    "    for i in range(len(T)-2, 0, -1):\n",
    "        T[i] = alpha[i] * T[i + 1] + betta[i]\n",
    "        \n",
    "           \n",
    "def Experiment2(delta, T, alpha, betta):\n",
    "    t = 0\n",
    "    while t <= timeOfExperience:\n",
    "        update_temp(delta, T, alpha, betta)\n",
    "        t += tau"
   ]
  },
  {
   "cell_type": "code",
   "execution_count": 9,
   "metadata": {},
   "outputs": [
    {
     "data": {
      "text/plain": [
       "[<matplotlib.lines.Line2D at 0x26bd451e130>]"
      ]
     },
     "execution_count": 9,
     "metadata": {},
     "output_type": "execute_result"
    },
    {
     "data": {
      "image/png": "[encoded data removed]",
      "text/plain": [
       "<Figure size 432x288 with 1 Axes>"
      ]
     },
     "metadata": {
      "needs_background": "light"
     },
     "output_type": "display_data"
    }
   ],
   "source": [
    "x = np.linspace(0, 100, 100)\n",
    "y = T\n",
    "plt.plot(x, y)"
   ]
  },
  {
   "cell_type": "code",
   "execution_count": null,
   "metadata": {},
   "outputs": [],
   "source": []
  }
 ],
 "metadata": {
  "kernelspec": {
   "display_name": "Python 3",
   "language": "python",
   "name": "python3"
  },
  "language_info": {
   "codemirror_mode": {
    "name": "ipython",
    "version": 3
   },
   "file_extension": ".py",
   "mimetype": "text/x-python",
   "name": "python",
   "nbconvert_exporter": "python",
   "pygments_lexer": "ipython3",
   "version": "3.8.3"
  }
 },
 "nbformat": 4,
 "nbformat_minor": 4
}

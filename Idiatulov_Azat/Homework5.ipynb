{
 "cells": [
  {
   "cell_type": "markdown",
   "metadata": {},
   "source": [
    "## Уравнение теплопроводности\n"
   ]
  },
  {
   "cell_type": "markdown",
   "metadata": {},
   "source": [
    "Метод конечных разностей\n"
   ]
  },
  {
   "cell_type": "code",
   "execution_count": 171,
   "metadata": {},
   "outputs": [],
   "source": [
    "import matplotlib.pyplot as plt\n",
    "import numpy as np\n",
    "class FDM():\n",
    "    \"\"\"\n",
    "    This class solve the equation of conductivity\n",
    "    \n",
    "    \"\"\"\n",
    "    tmax = 600\n",
    "    N = 100\n",
    "    Tdistr = []\n",
    "    t = []\n",
    "    x = []\n",
    "    def __init__(self, ro, lam, C, T0, T1, T2, L, tmax, N):\n",
    "        self.ro = ro\n",
    "        self.lam = lam\n",
    "        self.C = C\n",
    "        self.T0 = T0\n",
    "        self.T1 = T1\n",
    "        self.L = L\n",
    "        self.T2 = T2\n",
    "        self.tmax = tmax\n",
    "        self.N = N\n",
    "        self.Tdistr = []\n",
    "        self.x = [0]\n",
    "\n",
    "    def expsolve(self):\n",
    "        dx = 0.01\n",
    "        dt = 0.001\n",
    "        N = int(self.L/dx)\n",
    "        n = int(self.tmax/dt)\n",
    "        T = np.zeros((N, n), dtype = np.float64)\n",
    "\n",
    "        T[0][0] = self.T1\n",
    "        T[N-1][0] = self.T2\n",
    "        for i in range(1,N-1):\n",
    "            T[i][0] = self.T0\n",
    "        \n",
    "        a = self.lam * dt / (self.ro * self.C * (dx**2))\n",
    "\n",
    "        for j in range(1,n):\n",
    "                T[0][j] = self.T1\n",
    "                T[N-1][j] = self.T2\n",
    "                for i in range(1,N-1):\n",
    "                    T[i][j] = T[i][j-1] + a*(T[i+1][j-1] - 2*T[i][j-1] + T[i-1][j-1])\n",
    "        x = np.linspace(0, self.L, N)\n",
    "        Tres = [T[i][n-1] for i in range(N)]\n",
    "        Tbeg = [T[i][0] for i in range(N)]\n",
    "        Tmed = [T[i][int((n-1)/2)] for i in range(N)]\n",
    "        plt.plot(x, Tres)\n",
    "        plt.plot(x, Tbeg, color = 'r')\n",
    "        plt.plot(x, Tmed, color = 'black')\n",
    " "
   ]
  },
  {
   "cell_type": "code",
   "execution_count": 172,
   "metadata": {},
   "outputs": [],
   "source": [
    "b = FDM(7800, 46, 460, 300, 600, 400, 0.1, 200, 100)"
   ]
  },
  {
   "cell_type": "code",
   "execution_count": 173,
   "metadata": {},
   "outputs": [
    {
     "data": {
      "image/png": "[encoded data removed]",
      "text/plain": [
       "<Figure size 432x288 with 1 Axes>"
      ]
     },
     "metadata": {
      "needs_background": "light"
     },
     "output_type": "display_data"
    }
   ],
   "source": [
    "b.expsolve()"
   ]
  },
  {
   "cell_type": "code",
   "execution_count": null,
   "metadata": {},
   "outputs": [],
   "source": []
  },
  {
   "cell_type": "code",
   "execution_count": null,
   "metadata": {},
   "outputs": [],
   "source": []
  }
 ],
 "metadata": {
  "kernelspec": {
   "display_name": "Python 3",
   "language": "python",
   "name": "python3"
  },
  "language_info": {
   "codemirror_mode": {
    "name": "ipython",
    "version": 3
   },
   "file_extension": ".py",
   "mimetype": "text/x-python",
   "name": "python",
   "nbconvert_exporter": "python",
   "pygments_lexer": "ipython3",
   "version": "3.8.3"
  }
 },
 "nbformat": 4,
 "nbformat_minor": 4
}

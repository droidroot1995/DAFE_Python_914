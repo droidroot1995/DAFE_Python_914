{
 "cells": [
  {
   "cell_type": "code",
   "execution_count": 5,
   "metadata": {},
   "outputs": [
    {
     "name": "stderr",
     "output_type": "stream",
     "text": [
      "<ipython-input-5-48bd0d601b90>:70: UserWarning: Attempting to set identical left == right == 0 results in singular transformations; automatically expanding.\n",
      "  ax2.set_xlim(tyvPK[0][0], tyvPK[0][-1])\n"
     ]
    },
    {
     "data": {
      "image/png": "[encoded data removed]",
      "text/plain": [
       "<Figure size 432x288 with 2 Axes>"
      ]
     },
     "metadata": {
      "needs_background": "light"
     },
     "output_type": "display_data"
    }
   ],
   "source": [
    "import numpy as np\n",
    "import matplotlib.pyplot as plt\n",
    "import matplotlib.animation as animation\n",
    "\n",
    "t0 = 0\n",
    "dt = 0.05\n",
    "\n",
    "v0 = 0;\n",
    "y0 = 10\n",
    "a = 9.8\n",
    "\n",
    "def generator(v0, y0, a, t0, dt):\n",
    "    v = []\n",
    "    y = []\n",
    "    P = []\n",
    "    K = []\n",
    "    t = [t0]\n",
    "    \n",
    "    while(True):\n",
    "        v.append(v0)\n",
    "        y.append(y0)\n",
    "        P.append(y[-1]*a)\n",
    "        K.append((v[-1]**2)/2)\n",
    "        yield (t,y,v,P,K)\n",
    "        \n",
    "        while y[-1] >= 0:\n",
    "            v.append(v[-1] - a*dt) \n",
    "            y.append(y[-1] + v[-1]*dt)\n",
    "            P.append(y[-1]*a)\n",
    "            K.append((v[-1]**2)/2)\n",
    "            t.append(t[-1] + dt)\n",
    "            yield (t,y,v,P,K)\n",
    "            \n",
    "        v.append(-v[-1])\n",
    "        y.append(y[-1] + v[-1]*dt)\n",
    "        P.append(y[-1]*a)\n",
    "        K.append((v[-1]**2)/2)\n",
    "        t.append(t[-1] + dt)\n",
    "        yield (t,y,v,P,K)\n",
    "        while y[-1] > y[-2]:\n",
    "            v.append(v[-1] - a*dt) \n",
    "            y.append(y[-1] + v[-1]*dt)\n",
    "            P.append(y[-1]*a)\n",
    "            K.append((v[-1]**2)/2)\n",
    "            t.append(t[-1] + dt)\n",
    "            yield (t,y,v,P,K)\n",
    "        \n",
    "        v.append(-v[-1])\n",
    "        y.append(y[-1] + v[-1]*dt)\n",
    "        P.append(y[-1]*a)\n",
    "        K.append((v[-1]**2)/2)\n",
    "        t.append(t[-1] + dt)\n",
    "        yield (t,y,v,P,K)\n",
    "        t.append(t[-1]+1)\n",
    "\n",
    "fig, axes = plt.subplots(2)\n",
    "ax1 = axes[0]\n",
    "ax2 = axes[1]\n",
    "gen = generator(v0, y0, a, t0, dt)\n",
    "\n",
    "def animate(i):\n",
    "    ax1, ax2, gen\n",
    "    ax1.clear()\n",
    "    ax1.set_xlim(0, 4)\n",
    "    ax1.set_ylim(0, y0+1)\n",
    "    tyvPK = next(gen)\n",
    "    ax1.scatter([2], [tyvPK[1][-1]], lw = 3)\n",
    "    \n",
    "    ax2.clear()\n",
    "    ax2.set_xlim(tyvPK[0][0], tyvPK[0][-1])\n",
    "    miny = min(min(tyvPK[1]), min(tyvPK[2]), min(tyvPK[3]), min(tyvPK[4]))\n",
    "    maxy = max(max(tyvPK[1]), max(tyvPK[2]), max(tyvPK[3]), max(tyvPK[4]))\n",
    "    ax2.set_ylim(miny-1, maxy+1)\n",
    "    ax2.plot(tyvPK[0], tyvPK[1], label='y')\n",
    "    ax2.plot(tyvPK[0], tyvPK[2], label='v')\n",
    "    ax2.plot(tyvPK[0], tyvPK[3], label='K')\n",
    "    ax2.plot(tyvPK[0], tyvPK[4], label='P')\n",
    "    \n",
    "\n",
    "ani = animation.FuncAnimation(fig, animate, interval=10)\n",
    "plt.show()"
   ]
  },
  {
   "cell_type": "code",
   "execution_count": null,
   "metadata": {},
   "outputs": [],
   "source": []
  },
  {
   "cell_type": "markdown",
   "metadata": {},
   "source": [
    "# 2 задание"
   ]
  },
  {
   "cell_type": "code",
   "execution_count": 4,
   "metadata": {},
   "outputs": [
    {
     "name": "stderr",
     "output_type": "stream",
     "text": [
      "<ipython-input-4-d89165ad65f3>:46: UserWarning: Attempting to set identical left == right == 0 results in singular transformations; automatically expanding.\n",
      "  ax2.set_xlim(tyvPK[0][0], tyvPK[0][-1])\n"
     ]
    },
    {
     "data": {
      "image/png": "[encoded data removed]",
      "text/plain": [
       "<Figure size 432x288 with 2 Axes>"
      ]
     },
     "metadata": {
      "needs_background": "light"
     },
     "output_type": "display_data"
    }
   ],
   "source": [
    "t0 = 0\n",
    "dt = 0.05\n",
    "\n",
    "v0 = 0;\n",
    "y0 = 10\n",
    "a = 9.8\n",
    "\n",
    "def generator(v0, y0, a, t0, dt):\n",
    "    v = [v0]\n",
    "    y = [y0]\n",
    "    P = [y[-1]*a]\n",
    "    K = [(v[-1]**2)/2]\n",
    "    t = [t0]\n",
    "    yield (t,y,v,P,K)\n",
    "        \n",
    "    while y[-1] >= 0:\n",
    "        v.append(v[-1] - a*dt) \n",
    "        y.append(y[-1] + v[-1]*dt)\n",
    "        P.append(y[-1]*a)\n",
    "        K.append((v[-1]**2)/2)\n",
    "        t.append(t[-1] + dt)\n",
    "        yield (t,y,v,P,K)\n",
    "\t\n",
    "    while(True):  \n",
    "        v.append(0)\n",
    "        y.append(0)\n",
    "        P.append(0)\n",
    "        K.append(0)\n",
    "        t.append(t[-1] + dt)\n",
    "        yield (t,y,v,P,K)\n",
    "\n",
    "fig, axes = plt.subplots(2)\n",
    "ax1 = axes[0]\n",
    "ax2 = axes[1]\n",
    "gen = generator(v0, y0, a, t0, dt)\n",
    "\n",
    "def animate(i):\n",
    "    ax1, ax2, gen\n",
    "    ax1.clear()\n",
    "    ax1.set_xlim(0, 4)\n",
    "    ax1.set_ylim(0, y0+1)\n",
    "    tyvPK = next(gen)\n",
    "    ax1.scatter([2], [tyvPK[1][-1]], lw = 3)\n",
    "    \n",
    "    ax2.clear()\n",
    "    ax2.set_xlim(tyvPK[0][0], tyvPK[0][-1])\n",
    "    miny = min(min(tyvPK[1]), min(tyvPK[2]), min(tyvPK[3]), min(tyvPK[4]))\n",
    "    maxy = max(max(tyvPK[1]), max(tyvPK[2]), max(tyvPK[3]), max(tyvPK[4]))\n",
    "    ax2.set_ylim(miny-1, maxy+1)\n",
    "    ax2.plot(tyvPK[0], tyvPK[1], label='y')\n",
    "    ax2.plot(tyvPK[0], tyvPK[2], label='v')\n",
    "    ax2.plot(tyvPK[0], tyvPK[3], label='K')\n",
    "    ax2.plot(tyvPK[0], tyvPK[4], label='P')\n",
    "    \n",
    "\n",
    "ani = animation.FuncAnimation(fig, animate, interval=10)\n",
    "plt.show()"
   ]
  },
  {
   "cell_type": "markdown",
   "metadata": {},
   "source": [
    "# 3 задание"
   ]
  },
  {
   "cell_type": "code",
   "execution_count": 3,
   "metadata": {},
   "outputs": [
    {
     "name": "stderr",
     "output_type": "stream",
     "text": [
      "<ipython-input-3-a6770e87b137>:87: UserWarning: Attempting to set identical left == right == 0 results in singular transformations; automatically expanding.\n",
      "  ax2.set_xlim(all[0][0], all[0][-1])\n"
     ]
    },
    {
     "data": {
      "image/png": "[encoded data removed]",
      "text/plain": [
       "<Figure size 432x288 with 2 Axes>"
      ]
     },
     "metadata": {
      "needs_background": "light"
     },
     "output_type": "display_data"
    }
   ],
   "source": [
    "t0 = 0\n",
    "dt = 0.05\n",
    "\n",
    "v0 = 10\n",
    "alpha = np.pi/6\n",
    "y0 = 0\n",
    "x0 = 0\n",
    "a = 9.8\n",
    "\n",
    "def generator(v0, x0, y0, a, alpha, t0, dt):\n",
    "    v = []\n",
    "    vx = []\n",
    "    vy = []\n",
    "    x = [x0]\n",
    "    y = []\n",
    "    P = []\n",
    "    K = []\n",
    "    t = [t0]\n",
    "    \n",
    "    while(True):\n",
    "        v.append(v0)\n",
    "        vx.append(v0*np.cos(alpha))\n",
    "        vy.append(v0*np.sin(alpha))\n",
    "        y.append(y0)\n",
    "        P.append(y[-1]*a)\n",
    "        K.append((v[-1]**2)/2)\n",
    "        yield (t,x,y,v,vx,vy,P,K)\n",
    "        \n",
    "        while y[-1] >= 0:\n",
    "            vy.append(vy[-1] - a*dt)\n",
    "            vx.append(vx[-1])\n",
    "            v.append(np.sqrt(vx[-1]**2+vy[-1]**2))\n",
    "            x.append(x[-1] + vx[-1]*dt)\n",
    "            y.append(y[-1] + vy[-1]*dt)\n",
    "            P.append(y[-1]*a)\n",
    "            K.append((v[-1]**2)/2)\n",
    "            t.append(t[-1] + dt)\n",
    "            yield (t,x,y,v,vx,vy,P,K)\n",
    "            \n",
    "        vy.append(-vy[-1])\n",
    "        vx.append(vx[-1])\n",
    "        v.append(np.sqrt(vx[-1]**2+vy[-1]**2))\n",
    "        x.append(x[-1] + vx[-1]*dt)\n",
    "        y.append(y[-1] + vy[-1]*dt)\n",
    "        P.append(y[-1]*a)\n",
    "        K.append((v[-1]**2)/2)\n",
    "        t.append(t[-1] + dt)\n",
    "        yield (t,x,y,v,vx,vy,P,K)\n",
    "\n",
    "        while y[-1] > y[-2]:\n",
    "            vy.append(vy[-1] - a*dt)\n",
    "            vx.append(vx[-1])\n",
    "            v.append(np.sqrt(vx[-1]**2+vy[-1]**2))\n",
    "            x.append(x[-1] + vx[-1]*dt)\n",
    "            y.append(y[-1] + vy[-1]*dt)\n",
    "            P.append(y[-1]*a)\n",
    "            K.append((v[-1]**2)/2)\n",
    "            t.append(t[-1] + dt)\n",
    "            yield (t,x,y,v,vx,vy,P,K)\n",
    "        \n",
    "        vy.append(-vy[-1])\n",
    "        vx.append(vx[-1])\n",
    "        v.append(np.sqrt(vx[-1]**2 + vy[-1]**2))\n",
    "        x.append(x[-1] + vx[-1]*dt)\n",
    "        y.append(y[-1] + vy[-1]*dt)\n",
    "        P.append(y[-1]*a)\n",
    "        K.append((v[-1]**2)/2)\n",
    "        t.append(t[-1] + dt)\n",
    "        yield (t,x,y,v,vx,vy,P,K)\n",
    "        t.append(t[-1]+1)\n",
    "        x.append(x[-1] + vx[-1]*dt)\n",
    "\n",
    "fig, axes = plt.subplots(2)\n",
    "ax1 = axes[0]\n",
    "ax2 = axes[1]\n",
    "gen = generator(v0, x0, y0, a, alpha, t0, dt)\n",
    "\n",
    "def animate(i):\n",
    "    ax1, ax2, gen\n",
    "    ax1.clear()\n",
    "    all = next(gen)\n",
    "    ax1.set_xlim(100*(all[1][-1]//100), 100*(all[1][-1]//100 + 1))\n",
    "    ax1.set_ylim(0, 10)\n",
    "    ax1.scatter([all[1][-1]], [all[2][-1]], lw = 3)\n",
    "    \n",
    "    ax2.clear()\n",
    "    ax2.set_xlim(all[0][0], all[0][-1])\n",
    "    #miny = min(all[1])\n",
    "    #maxy = max(all[1])\n",
    "    miny = min(min(all[2]), min(all[3]), min(all[5]), min(all[6]), min(all[7]))\n",
    "    maxy = max(max(all[2]), max(all[3]), max(all[5]), max(all[6]), max(all[7]))\n",
    "    ax2.set_ylim(miny-1, maxy+1)\n",
    "    ax2.plot(all[0], all[2], label='y')\n",
    "    ax2.plot(all[0], all[3], label='v')\n",
    "    ax2.plot(all[0], all[4], label='vx')\n",
    "    ax2.plot(all[0], all[5], label='vy')\n",
    "    ax2.plot(all[0], all[6], label='K')\n",
    "    ax2.plot(all[0], all[7], label='P')\n",
    "    ax2.legend(loc = 'right')\n",
    "    \n",
    "\n",
    "ani = animation.FuncAnimation(fig, animate, interval=10)\n",
    "plt.show()"
   ]
  },
  {
   "cell_type": "code",
   "execution_count": null,
   "metadata": {},
   "outputs": [],
   "source": []
  }
 ],
 "metadata": {
  "kernelspec": {
   "display_name": "Python 3",
   "language": "python",
   "name": "python3"
  },
  "language_info": {
   "codemirror_mode": {
    "name": "ipython",
    "version": 3
   },
   "file_extension": ".py",
   "mimetype": "text/x-python",
   "name": "python",
   "nbconvert_exporter": "python",
   "pygments_lexer": "ipython3",
   "version": "3.8.3"
  }
 },
 "nbformat": 4,
 "nbformat_minor": 4
}

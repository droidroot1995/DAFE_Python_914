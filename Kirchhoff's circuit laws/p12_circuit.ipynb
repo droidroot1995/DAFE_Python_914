{
 "cells": [
  {
   "cell_type": "code",
   "execution_count": 1,
   "metadata": {
    "executionInfo": {
     "elapsed": 1106,
     "status": "ok",
     "timestamp": 1617900036759,
     "user": {
      "displayName": "Fol4",
      "photoUrl": "",
      "userId": "07767080146629070259"
     },
     "user_tz": -180
    },
    "id": "3YoBsmJbOvwL"
   },
   "outputs": [],
   "source": [
    "import numpy as np\n",
    "import matplotlib.pyplot as plt"
   ]
  },
  {
   "cell_type": "markdown",
   "metadata": {
    "id": "p6tGo1trNZnO"
   },
   "source": [
    "#Задание 1"
   ]
  },
  {
   "cell_type": "code",
   "execution_count": 2,
   "metadata": {
    "executionInfo": {
     "elapsed": 514,
     "status": "ok",
     "timestamp": 1617898894272,
     "user": {
      "displayName": "Fol4",
      "photoUrl": "",
      "userId": "07767080146629070259"
     },
     "user_tz": -180
    },
    "id": "QBNL31abljBi"
   },
   "outputs": [],
   "source": [
    "# {'a': {'b': 10, 'c': 20}, 'b': {'a': 10, 'd': 20}, 'c': {'a': 20, 'd': 30}, 'd': {'b': 20, 'c': 30}}\n",
    "# ['a', 'b', 'c', 'd'], np.array([[0, 10, 20, inf], [10, 0, inf, 20], [20, inf, 0, 30], [inf, 20, 30, 0]])\n",
    "\n",
    "class Graph:\n",
    "    def __init__(self):\n",
    "        \"Неориентированный взвешенный граф.\"\n",
    "        \n",
    "        self.graph = {}\n",
    "\n",
    "    def add_node(self, v):\n",
    "        \"Добавление вершины с именем v.\"\n",
    "\n",
    "        self.graph[v] = {}\n",
    "    \n",
    "    def set_edge(self, u, v, w):\n",
    "        \"Задание ребра весом w между u и v.\"\n",
    "        \n",
    "        self.graph[u][v] = w\n",
    "        self.graph[v][u] = w\n",
    "\n",
    "    def get_edge(self, u, v):\n",
    "        \"Получение веса ребра между u и v.\"\n",
    "        \n",
    "        return self.graph[u][v]\n",
    "\n",
    "    def nodes(self):\n",
    "        \"Список вершин.\"\n",
    "        \n",
    "        return list(self.graph.keys())\n",
    "    \n",
    "    def is_connected(self):\n",
    "        \"Проверка связности.\"\n",
    "        \n",
    "        colors = [0] * len(self.nodes())\n",
    "\n",
    "        return len(colors) == self._dfs(0, colors)\n",
    "\n",
    "    def _dfs(self, node, colors):\n",
    "        visited = 1\n",
    "        colors[node] = 1\n",
    "        neighbours = list(self.graph[self.nodes()[node]].keys())\n",
    "\n",
    "        for neighbour in neighbours:\n",
    "          if colors[self.nodes().index(neighbour)] == 0:\n",
    "            visited += self._dfs(self.nodes().index(neighbour), colors)\n",
    "        \n",
    "        return visited\n",
    "    "
   ]
  },
  {
   "cell_type": "code",
   "execution_count": 3,
   "metadata": {
    "executionInfo": {
     "elapsed": 456,
     "status": "ok",
     "timestamp": 1617901540016,
     "user": {
      "displayName": "Fol4",
      "photoUrl": "",
      "userId": "07767080146629070259"
     },
     "user_tz": -180
    },
    "id": "XIeLAnagln9Z"
   },
   "outputs": [],
   "source": [
    "class Circuit(Graph):\n",
    "\n",
    "    def probe_field(self, u, v, u_voltage=0, v_voltage=1):\n",
    "        \"\"\"\n",
    "        Расчёт поля потенциалов при подключении источника тока в вершины u и v.\n",
    "        Возвращает словарь {вершина: потенциал}.\n",
    "        \"\"\"\n",
    "\n",
    "        # assert not self.is_connected() > 1, \"Граф не является связным\"\n",
    "\n",
    "        u_index = self.nodes().index(u, 0, len(self.nodes()))\n",
    "        v_index = self.nodes().index(v, 0, len(self.nodes()))\n",
    "\n",
    "        resistances = self.nodes()\n",
    "        resistances.pop(max(u_index, v_index))\n",
    "        resistances.pop(min(u_index, v_index))\n",
    "        \n",
    "        a, b = self._equations(u, v, u_voltage, v_voltage, resistances)\n",
    "        answer = np.linalg.solve(a, b)\n",
    "\n",
    "        answer = np.insert(answer, u_index, u_voltage)\n",
    "        answer = np.insert(answer, v_index, v_voltage)\n",
    "\n",
    "        return answer\n",
    "    \n",
    "    def calculate_currents(self, voltages):\n",
    "        \"\"\"\n",
    "        Расчёт значений токов, исходя из значений поля потенциалов.\n",
    "        Возващает словарь {(вершина, вершина): ток}.\n",
    "        \"\"\"\n",
    "\n",
    "        currents = {}\n",
    "    \n",
    "        for first in self.graph:\n",
    "          for second in self.graph.get(first):\n",
    "            current = (voltages[self.nodes().index(first)] - voltages[self.nodes().index(second)]) / (self.graph.get(first).get(second))\n",
    "            currents[(first, second)] = current\n",
    "\n",
    "        return currents\n",
    "    \n",
    "    def equivalent_resistance(self, u, v, u_voltage = 0, v_voltage = 1):\n",
    "        \"\"\"\n",
    "        Расчёт эквивалентного сопротивления между вершинами u и v.\n",
    "        \"\"\"\n",
    "\n",
    "        voltages = self.probe_field(u, v, u_voltage, v_voltage)\n",
    "        currents = self.calculate_currents(voltages)\n",
    "        current = 0\n",
    "\n",
    "        for cur in currents:\n",
    "          u_new, v_new = cur\n",
    "          if currents[cur] > 0 and (u_new == u or v_new == v):\n",
    "            current += currents[cur]\n",
    "\n",
    "        return 2 * (u_voltage - v_voltage) / current\n",
    "    \n",
    "    def _equations(self, u, v, u_voltage, v_voltage, resistances):\n",
    "        \"\"\"\n",
    "        Возвращает систему уравнений \"Первое правило Кирхгофа\".\n",
    "        \"\"\"\n",
    "\n",
    "        a = []\n",
    "        b = []\n",
    "\n",
    "        for resistance in resistances:\n",
    "          eq = np.zeros(len(resistances))\n",
    "          number = 0\n",
    "          neighbours = self.graph[resistance]\n",
    "\n",
    "          for neighbour in neighbours:\n",
    "            if neighbour == u:\n",
    "              number += float(1) / self.get_edge(resistance, neighbour) * u_voltage\n",
    "            elif neighbour == v:\n",
    "              number += float(1) / self.get_edge(resistance, neighbour) * v_voltage\n",
    "            else:\n",
    "              index = resistances.index(neighbour)\n",
    "              eq[index] -= float(1) / self.get_edge(resistance, neighbour)\n",
    "            \n",
    "            index = resistances.index(resistance)\n",
    "            eq[index] += float(1) / self.get_edge(resistance, neighbour)\n",
    "        \n",
    "          a.append(eq)\n",
    "          b.append(number)\n",
    "        \n",
    "        return np.array(a), np.array(b)"
   ]
  },
  {
   "cell_type": "code",
   "execution_count": 4,
   "metadata": {
    "executionInfo": {
     "elapsed": 1145,
     "status": "ok",
     "timestamp": 1617906904048,
     "user": {
      "displayName": "Fol4",
      "photoUrl": "",
      "userId": "07767080146629070259"
     },
     "user_tz": -180
    },
    "id": "YkRj4umFSyME"
   },
   "outputs": [],
   "source": [
    "class Grid(Circuit):\n",
    "    def __init__(self, width, height, resistance):\n",
    "        \"\"\"\n",
    "        Прямоугольная решётка из width горизонтальных узлов и height вертикальных.\n",
    "        \"\"\"\n",
    "\n",
    "        super().__init__()\n",
    "        \n",
    "        self.width = width\n",
    "        self.height = height\n",
    "\n",
    "        for i in range(height):\n",
    "          for j in range(width):\n",
    "            self.add_node((i, j))\n",
    "\n",
    "        for i in range(height):\n",
    "          for j in range(width):\n",
    "            if i < height - 1:\n",
    "              self.set_edge((i, j), (i + 1, j), resistance)\n",
    "            if j < width - 1:\n",
    "              self.set_edge((i, j), (i, j + 1), resistance)\n",
    "    \n",
    "    def plot_currents(self, currents):\n",
    "        \"\"\"\n",
    "        Нарисовать картинку токов по заданному их распределению.\n",
    "        \"\"\"\n",
    "        \n",
    "        plt.xlim(-5, self.width + 5), plt.ylim(- 5, self.height + 5)\n",
    "\n",
    "        max_current = max(currents.values())\n",
    "        for node in currents:\n",
    "          dot1, dot2 = node\n",
    "\n",
    "          if currents[node] > 0:\n",
    "            if dot1[0] == dot2[0]:\n",
    "              if dot1[1] > dot2[1]:\n",
    "                plt.arrow(dot1[0], dot1[1], 0, -1, width = 0.1, length_includes_head = True, alpha = currents[node] / max_current)\n",
    "              else:\n",
    "                plt.arrow(dot1[0], dot1[1], 0, 1, width = 0.1, length_includes_head = True, alpha = currents[node] / max_current)\n",
    "            else:\n",
    "              if dot1[0] > dot2[0]:\n",
    "                plt.arrow(dot1[0], dot1[1], -1, 0, width = 0.1, length_includes_head = True, alpha = currents[node] / max_current)\n",
    "              else:\n",
    "                plt.arrow(dot1[0], dot1[1], 1, 0, width = 0.1, length_includes_head = True, alpha = currents[node] / max_current)\n",
    "        \n",
    "        plt.show()\n",
    "\n",
    "        "
   ]
  },
  {
   "cell_type": "markdown",
   "metadata": {
    "id": "cDVEr3ecNQGW"
   },
   "source": [
    "#Задание 2"
   ]
  },
  {
   "cell_type": "code",
   "execution_count": 5,
   "metadata": {
    "colab": {
     "base_uri": "https://localhost:8080/"
    },
    "executionInfo": {
     "elapsed": 445,
     "status": "ok",
     "timestamp": 1617906802076,
     "user": {
      "displayName": "Fol4",
      "photoUrl": "",
      "userId": "07767080146629070259"
     },
     "user_tz": -180
    },
    "id": "IM6yRE2POuLQ",
    "outputId": "5d2d226c-d144-40e3-f097-91f4dcde58a3"
   },
   "outputs": [
    {
     "data": {
      "text/plain": [
       "18.75"
      ]
     },
     "execution_count": 5,
     "metadata": {},
     "output_type": "execute_result"
    }
   ],
   "source": [
    "c = Circuit()\n",
    "c.add_node('a')\n",
    "c.add_node('b')\n",
    "c.add_node('c')\n",
    "c.add_node('d')\n",
    "c.set_edge('a', 'b', 10)\n",
    "c.set_edge('a', 'c', 20)\n",
    "c.set_edge('b', 'd', 20)\n",
    "c.set_edge('c', 'd', 30)\n",
    "c.equivalent_resistance('a', 'd', 1, 0)"
   ]
  },
  {
   "cell_type": "markdown",
   "metadata": {
    "id": "wOV-i20nUyhp"
   },
   "source": [
    "#Здание 3"
   ]
  },
  {
   "cell_type": "code",
   "execution_count": 6,
   "metadata": {
    "colab": {
     "base_uri": "https://localhost:8080/",
     "height": 322
    },
    "executionInfo": {
     "elapsed": 144388,
     "status": "ok",
     "timestamp": 1617907119844,
     "user": {
      "displayName": "Fol4",
      "photoUrl": "",
      "userId": "07767080146629070259"
     },
     "user_tz": -180
    },
    "id": "8tRQ5ZtQUwde",
    "outputId": "1261c48a-0708-4403-f778-11a117694c62"
   },
   "outputs": [
    {
     "data": {
      "image/png": "[encoded data removed]",
      "text/plain": [
       "<Figure size 432x288 with 1 Axes>"
      ]
     },
     "metadata": {
      "needs_background": "light"
     },
     "output_type": "display_data"
    },
    {
     "data": {
      "text/plain": [
       "0.6367292137152665"
      ]
     },
     "execution_count": 6,
     "metadata": {},
     "output_type": "execute_result"
    }
   ],
   "source": [
    "g = Grid(100, 100, 1)\n",
    "voltages = g.probe_field((49, 49), (50, 50), 1, 0)\n",
    "currents = g.calculate_currents(voltages)\n",
    "g.plot_currents(currents)\n",
    "g.equivalent_resistance((49, 49), (50, 50), 1, 0)"
   ]
  },
  {
   "cell_type": "code",
   "execution_count": 97,
   "metadata": {
    "executionInfo": {
     "elapsed": 659,
     "status": "ok",
     "timestamp": 1617906357190,
     "user": {
      "displayName": "Fol4",
      "photoUrl": "",
      "userId": "07767080146629070259"
     },
     "user_tz": -180
    },
    "id": "pcFeHdktW3Sb"
   },
   "outputs": [],
   "source": []
  }
 ],
 "metadata": {
  "colab": {
   "authorship_tag": "ABX9TyO8fm6ERS+P8jg0GCAV1ym4",
   "name": "Untitled0.ipynb",
   "provenance": []
  },
  "kernelspec": {
   "display_name": "Python 3",
   "language": "python",
   "name": "python3"
  },
  "language_info": {
   "codemirror_mode": {
    "name": "ipython",
    "version": 3
   },
   "file_extension": ".py",
   "mimetype": "text/x-python",
   "name": "python",
   "nbconvert_exporter": "python",
   "pygments_lexer": "ipython3",
   "version": "3.9.0"
  }
 },
 "nbformat": 4,
 "nbformat_minor": 4
}

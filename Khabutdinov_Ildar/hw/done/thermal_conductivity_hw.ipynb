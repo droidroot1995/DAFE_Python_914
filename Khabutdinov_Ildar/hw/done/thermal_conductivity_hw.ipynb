{
 "cells": [
  {
   "cell_type": "code",
   "execution_count": 1,
   "metadata": {
    "ExecuteTime": {
     "end_time": "2021-05-07T12:22:17.566420Z",
     "start_time": "2021-05-07T12:22:17.401907Z"
    }
   },
   "outputs": [],
   "source": [
    "import numpy as np\n",
    "import matplotlib.pyplot as plt"
   ]
  },
  {
   "cell_type": "markdown",
   "metadata": {},
   "source": [
    "# Явная схема"
   ]
  },
  {
   "cell_type": "markdown",
   "metadata": {},
   "source": [
    "* Посмотрим на графики"
   ]
  },
  {
   "cell_type": "code",
   "execution_count": 2,
   "metadata": {
    "ExecuteTime": {
     "end_time": "2021-05-07T12:22:17.917523Z",
     "start_time": "2021-05-07T12:22:17.869595Z"
    }
   },
   "outputs": [],
   "source": [
    "class thermalConductivityExplicit():\n",
    "    def __init__(self):\n",
    "        \"\"\"\n",
    "        Инициализация параметров\n",
    "        \"\"\"\n",
    "        self.L = 1\n",
    "        self.lam = 46\n",
    "        self.ro = 7800\n",
    "        self.C = 460\n",
    "        self.T0 = 300\n",
    "        self.Tl = 600\n",
    "        self.Tr = 400\n",
    "\n",
    "        self.delta = 100\n",
    "\n",
    "        self.timeOfExperience = 60\n",
    "        self.tau = self.timeOfExperience / 10000\n",
    "        self.h = 0.001\n",
    "\n",
    "        self.T = [self.T0 for i in range(self.delta)]\n",
    "        self.Tn = [self.T0 for i in range(self.delta)]\n",
    "\n",
    "        self.T[0] = self.Tl\n",
    "        self.T[-1] = self.Tr\n",
    "\n",
    "        self.Tn[0] = self.Tl\n",
    "        self.Tn[-1] = self.Tr\n",
    "\n",
    "        self.coeff = self.lam * self.tau / self.ro / self.C / (self.h**2)\n",
    "\n",
    "    def updTemperatureDot(self, i):\n",
    "        \"\"\"\n",
    "        Обновление точки температуры\n",
    "        \"\"\"\n",
    "        self.T[i] = self.Tn[i] + self.coeff * (self.Tn[i + 1] -\n",
    "                                               2 * self.Tn[i] + self.Tn[i - 1])\n",
    "\n",
    "    def updTemperatureList(self):\n",
    "        \"\"\"\n",
    "        Обновление массива температур\n",
    "        \"\"\"\n",
    "        for i in range(1, len(self.T) - 1, 1):\n",
    "            self.updTemperatureDot(i)\n",
    "        self.Tn = self.T.copy()\n",
    "\n",
    "    def experiment(self):\n",
    "        \"\"\"\n",
    "        Проведение эксперимента\n",
    "        \"\"\"\n",
    "        t = 0\n",
    "        while t <= self.timeOfExperience:\n",
    "            self.updTemperatureList()\n",
    "            t += self.tau\n",
    "\n",
    "    def get_T(self):\n",
    "        \"\"\"\n",
    "        Возвращает температуру\n",
    "        \"\"\"\n",
    "        return self.T"
   ]
  },
  {
   "cell_type": "code",
   "execution_count": 3,
   "metadata": {
    "ExecuteTime": {
     "end_time": "2021-05-07T12:22:18.642477Z",
     "start_time": "2021-05-07T12:22:18.133594Z"
    }
   },
   "outputs": [
    {
     "data": {
      "text/plain": [
       "[<matplotlib.lines.Line2D at 0x7f856830f730>]"
      ]
     },
     "execution_count": 3,
     "metadata": {},
     "output_type": "execute_result"
    },
    {
     "data": {
      "image/png": "[encoded data removed]",
      "text/plain": [
       "<Figure size 432x288 with 1 Axes>"
      ]
     },
     "metadata": {
      "needs_background": "light"
     },
     "output_type": "display_data"
    }
   ],
   "source": [
    "exp_1 = thermalConductivityExplicit()\n",
    "exp_1.experiment()\n",
    "x = np.linspace(0, 100, 100)\n",
    "y = exp_1.get_T()\n",
    "plt.plot(x, y)"
   ]
  },
  {
   "cell_type": "markdown",
   "metadata": {},
   "source": [
    "# Неявная схема"
   ]
  },
  {
   "cell_type": "code",
   "execution_count": 4,
   "metadata": {
    "ExecuteTime": {
     "end_time": "2021-05-07T12:22:18.667488Z",
     "start_time": "2021-05-07T12:22:18.660406Z"
    }
   },
   "outputs": [],
   "source": [
    "class thermalConductivityImplicit():\n",
    "    def __init__(self):\n",
    "        \"\"\"\n",
    "        Инициализация параметров\n",
    "        \"\"\"\n",
    "        self.L = 0.1\n",
    "        self.lam = 46\n",
    "        self.ro = 7800\n",
    "        self.C = 460\n",
    "        self.T0 = 300\n",
    "        self.Tl = 600\n",
    "        self.Tr = 400\n",
    "\n",
    "        self.delta = 100\n",
    "\n",
    "        self.timeOfExperience = 60\n",
    "        self.tau = self.timeOfExperience / self.delta\n",
    "        self.h = self.L / self.delta\n",
    "\n",
    "        self.T = [self.T0 for i in range(self.delta)]\n",
    "        self.T[0] = self.Tl\n",
    "        self.T[-1] = self.Tr\n",
    "\n",
    "        self.alpha = [0 for i in range(self.delta)]\n",
    "        self.betta = [self.T[0] for i in range(self.delta)]\n",
    "\n",
    "    def updParameters(self, i):\n",
    "        \"\"\"\n",
    "        Обновление параметров альфа и бетта\n",
    "        \"\"\"\n",
    "        Ai = Ci = self.lam / self.h**2\n",
    "        Bi = 2 * Ai + self.C * self.ro / self.tau\n",
    "\n",
    "        Fi = -self.ro * self.C / self.tau * self.T[i]\n",
    "\n",
    "        self.alpha[i] = Ai / (Bi - self.alpha[i - 1] * Ci)\n",
    "        self.betta[i] = (Ci * self.betta[i - 1] -\n",
    "                         Fi) / (Bi - self.alpha[i - 1] * Ci)\n",
    "\n",
    "    def updTemperatureDot(self, i):\n",
    "        \"\"\"\n",
    "        Обновление точки температуры\n",
    "        \"\"\"\n",
    "        self.T[i] = self.alpha[i] * self.T[i + 1] + self.betta[i]\n",
    "\n",
    "    def updTemperatureList(self):\n",
    "        \"\"\"\n",
    "        Обновление массива температур\n",
    "        \"\"\"\n",
    "        self.alpha = [0 for i in range(self.delta)]\n",
    "        self.betta = [self.T[0] for i in range(self.delta)]\n",
    "\n",
    "        for i in range(1, len(self.T) - 1, 1):\n",
    "            self.updParameters(i)\n",
    "\n",
    "        for i in range(len(self.T) - 2, 0, -1):\n",
    "            self.updTemperatureDot(i)\n",
    "\n",
    "    def experiment(self):\n",
    "        t = 0\n",
    "        while t <= self.timeOfExperience:\n",
    "            self.updTemperatureList()\n",
    "            t += self.tau\n",
    "\n",
    "    def get_T(self):\n",
    "        return self.T"
   ]
  },
  {
   "cell_type": "markdown",
   "metadata": {},
   "source": [
    "* Посмотрим на графики"
   ]
  },
  {
   "cell_type": "code",
   "execution_count": 5,
   "metadata": {
    "ExecuteTime": {
     "end_time": "2021-05-07T12:22:19.398211Z",
     "start_time": "2021-05-07T12:22:19.295084Z"
    }
   },
   "outputs": [
    {
     "data": {
      "text/plain": [
       "[<matplotlib.lines.Line2D at 0x7f85683845e0>]"
      ]
     },
     "execution_count": 5,
     "metadata": {},
     "output_type": "execute_result"
    },
    {
     "data": {
      "image/png": "[encoded data removed]",
      "text/plain": [
       "<Figure size 432x288 with 1 Axes>"
      ]
     },
     "metadata": {
      "needs_background": "light"
     },
     "output_type": "display_data"
    }
   ],
   "source": [
    "exp_2 = thermalConductivityImplicit()\n",
    "x = np.linspace(0, 100, 100)\n",
    "y = exp_2.get_T()\n",
    "plt.plot(x, y)"
   ]
  },
  {
   "cell_type": "code",
   "execution_count": 6,
   "metadata": {
    "ExecuteTime": {
     "end_time": "2021-05-07T12:22:20.337084Z",
     "start_time": "2021-05-07T12:22:20.225373Z"
    }
   },
   "outputs": [
    {
     "data": {
      "text/plain": [
       "[<matplotlib.lines.Line2D at 0x7f858a886bb0>]"
      ]
     },
     "execution_count": 6,
     "metadata": {},
     "output_type": "execute_result"
    },
    {
     "data": {
      "image/png": "[encoded data removed]",
      "text/plain": [
       "<Figure size 432x288 with 1 Axes>"
      ]
     },
     "metadata": {
      "needs_background": "light"
     },
     "output_type": "display_data"
    }
   ],
   "source": [
    "exp_2.experiment()\n",
    "x = np.linspace(0, 100, 100)\n",
    "y = exp_2.get_T()\n",
    "plt.plot(x, y)"
   ]
  }
 ],
 "metadata": {
  "kernelspec": {
   "display_name": "Python 3",
   "language": "python",
   "name": "python3"
  },
  "language_info": {
   "codemirror_mode": {
    "name": "ipython",
    "version": 3
   },
   "file_extension": ".py",
   "mimetype": "text/x-python",
   "name": "python",
   "nbconvert_exporter": "python",
   "pygments_lexer": "ipython3",
   "version": "3.8.5"
  },
  "nbTranslate": {
   "displayLangs": [
    "*"
   ],
   "hotkey": "alt-t",
   "langInMainMenu": true,
   "sourceLang": "en",
   "targetLang": "fr",
   "useGoogleTranslate": true
  },
  "toc": {
   "base_numbering": 1,
   "nav_menu": {},
   "number_sections": true,
   "sideBar": true,
   "skip_h1_title": false,
   "title_cell": "Table of Contents",
   "title_sidebar": "Contents",
   "toc_cell": false,
   "toc_position": {},
   "toc_section_display": true,
   "toc_window_display": false
  },
  "varInspector": {
   "cols": {
    "lenName": 16,
    "lenType": 16,
    "lenVar": 40
   },
   "kernels_config": {
    "python": {
     "delete_cmd_postfix": "",
     "delete_cmd_prefix": "del ",
     "library": "var_list.py",
     "varRefreshCmd": "print(var_dic_list())"
    },
    "r": {
     "delete_cmd_postfix": ") ",
     "delete_cmd_prefix": "rm(",
     "library": "var_list.r",
     "varRefreshCmd": "cat(var_dic_list()) "
    }
   },
   "types_to_exclude": [
    "module",
    "function",
    "builtin_function_or_method",
    "instance",
    "_Feature"
   ],
   "window_display": false
  }
 },
 "nbformat": 4,
 "nbformat_minor": 4
}

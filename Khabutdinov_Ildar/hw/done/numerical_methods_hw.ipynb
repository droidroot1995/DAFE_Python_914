{
 "cells": [
  {
   "cell_type": "code",
   "execution_count": 1,
   "metadata": {
    "ExecuteTime": {
     "end_time": "2021-05-07T11:37:15.867638Z",
     "start_time": "2021-05-07T11:37:15.525732Z"
    }
   },
   "outputs": [],
   "source": [
    "import numpy as np\n",
    "import matplotlib.pyplot as plt\n",
    "import math\n",
    "from math import sin\n",
    "from scipy import optimize"
   ]
  },
  {
   "cell_type": "markdown",
   "metadata": {},
   "source": [
    "# Производная"
   ]
  },
  {
   "cell_type": "code",
   "execution_count": 2,
   "metadata": {
    "ExecuteTime": {
     "end_time": "2021-05-07T11:37:15.879823Z",
     "start_time": "2021-05-07T11:37:15.877348Z"
    }
   },
   "outputs": [],
   "source": [
    "def generate(x0, x1):\n",
    "    values = np.array([])\n",
    "    step = (x1 - x0) / 20\n",
    "\n",
    "    start = 0\n",
    "    while start + x0 < x1:\n",
    "        value = math.sin(x0 + d)\n",
    "        values = np.append(fValues, value)\n",
    "        start += step\n",
    "\n",
    "    return values"
   ]
  },
  {
   "cell_type": "code",
   "execution_count": 3,
   "metadata": {
    "ExecuteTime": {
     "end_time": "2021-05-07T11:37:15.948746Z",
     "start_time": "2021-05-07T11:37:15.946001Z"
    }
   },
   "outputs": [],
   "source": [
    "def derivative(array, x0, x1):\n",
    "    derives = np.array([])\n",
    "    step = (x1 - x0) / 20\n",
    "\n",
    "    for i in range(len(array) - 1):\n",
    "        derives = np.append(derives, (array[i + 1] - array[i]) / step)\n",
    "\n",
    "    return derives"
   ]
  },
  {
   "cell_type": "code",
   "execution_count": 4,
   "metadata": {
    "ExecuteTime": {
     "end_time": "2021-05-07T11:37:16.079214Z",
     "start_time": "2021-05-07T11:37:16.076162Z"
    }
   },
   "outputs": [],
   "source": [
    "def _plot(values, x0, x1):\n",
    "    x = np.linspace(x0, x1, 19)\n",
    "\n",
    "    plt.plot(x, values, label='Производная')\n",
    "    plt.xlabel('x')\n",
    "    plt.ylabel('y')\n",
    "\n",
    "    plt.legend()\n",
    "    plt.show()"
   ]
  },
  {
   "cell_type": "code",
   "execution_count": 5,
   "metadata": {
    "ExecuteTime": {
     "end_time": "2021-05-07T11:37:16.316301Z",
     "start_time": "2021-05-07T11:37:16.209718Z"
    }
   },
   "outputs": [
    {
     "ename": "NameError",
     "evalue": "name 'd' is not defined",
     "output_type": "error",
     "traceback": [
      "\u001b[0;31m---------------------------------------------------------------------------\u001b[0m",
      "\u001b[0;31mNameError\u001b[0m                                 Traceback (most recent call last)",
      "\u001b[0;32m<ipython-input-5-307d8bf00e1d>\u001b[0m in \u001b[0;36m<module>\u001b[0;34m\u001b[0m\n\u001b[1;32m      2\u001b[0m \u001b[0mx1\u001b[0m \u001b[0;34m=\u001b[0m \u001b[0;36m2\u001b[0m \u001b[0;34m*\u001b[0m \u001b[0mmath\u001b[0m\u001b[0;34m.\u001b[0m\u001b[0mpi\u001b[0m\u001b[0;34m\u001b[0m\u001b[0;34m\u001b[0m\u001b[0m\n\u001b[1;32m      3\u001b[0m \u001b[0;34m\u001b[0m\u001b[0m\n\u001b[0;32m----> 4\u001b[0;31m \u001b[0mvalues\u001b[0m \u001b[0;34m=\u001b[0m \u001b[0mgenerate\u001b[0m\u001b[0;34m(\u001b[0m\u001b[0mx0\u001b[0m\u001b[0;34m,\u001b[0m \u001b[0mx1\u001b[0m\u001b[0;34m)\u001b[0m\u001b[0;34m\u001b[0m\u001b[0;34m\u001b[0m\u001b[0m\n\u001b[0m\u001b[1;32m      5\u001b[0m \u001b[0;34m\u001b[0m\u001b[0m\n\u001b[1;32m      6\u001b[0m \u001b[0mderives\u001b[0m \u001b[0;34m=\u001b[0m \u001b[0mderivative\u001b[0m\u001b[0;34m(\u001b[0m\u001b[0mvalues\u001b[0m\u001b[0;34m,\u001b[0m \u001b[0mx0\u001b[0m\u001b[0;34m,\u001b[0m \u001b[0mx1\u001b[0m\u001b[0;34m)\u001b[0m\u001b[0;34m\u001b[0m\u001b[0;34m\u001b[0m\u001b[0m\n",
      "\u001b[0;32m<ipython-input-2-6b232ead9704>\u001b[0m in \u001b[0;36mgenerate\u001b[0;34m(x0, x1)\u001b[0m\n\u001b[1;32m      5\u001b[0m     \u001b[0mstart\u001b[0m \u001b[0;34m=\u001b[0m \u001b[0;36m0\u001b[0m\u001b[0;34m\u001b[0m\u001b[0;34m\u001b[0m\u001b[0m\n\u001b[1;32m      6\u001b[0m     \u001b[0;32mwhile\u001b[0m \u001b[0mstart\u001b[0m \u001b[0;34m+\u001b[0m \u001b[0mx0\u001b[0m \u001b[0;34m<\u001b[0m \u001b[0mx1\u001b[0m\u001b[0;34m:\u001b[0m\u001b[0;34m\u001b[0m\u001b[0;34m\u001b[0m\u001b[0m\n\u001b[0;32m----> 7\u001b[0;31m         \u001b[0mvalue\u001b[0m \u001b[0;34m=\u001b[0m \u001b[0mmath\u001b[0m\u001b[0;34m.\u001b[0m\u001b[0msin\u001b[0m\u001b[0;34m(\u001b[0m\u001b[0mx0\u001b[0m \u001b[0;34m+\u001b[0m \u001b[0md\u001b[0m\u001b[0;34m)\u001b[0m\u001b[0;34m\u001b[0m\u001b[0;34m\u001b[0m\u001b[0m\n\u001b[0m\u001b[1;32m      8\u001b[0m         \u001b[0mvalues\u001b[0m \u001b[0;34m=\u001b[0m \u001b[0mnp\u001b[0m\u001b[0;34m.\u001b[0m\u001b[0mappend\u001b[0m\u001b[0;34m(\u001b[0m\u001b[0mfValues\u001b[0m\u001b[0;34m,\u001b[0m \u001b[0mvalue\u001b[0m\u001b[0;34m)\u001b[0m\u001b[0;34m\u001b[0m\u001b[0;34m\u001b[0m\u001b[0m\n\u001b[1;32m      9\u001b[0m         \u001b[0mstart\u001b[0m \u001b[0;34m+=\u001b[0m \u001b[0mstep\u001b[0m\u001b[0;34m\u001b[0m\u001b[0;34m\u001b[0m\u001b[0m\n",
      "\u001b[0;31mNameError\u001b[0m: name 'd' is not defined"
     ]
    }
   ],
   "source": [
    "x0 = 0\n",
    "x1 = 2 * math.pi\n",
    "\n",
    "values = generate(x0, x1)\n",
    "\n",
    "derives = derivative(values, x0, x1)\n",
    "\n",
    "_plot(derives, x0, x1)"
   ]
  },
  {
   "cell_type": "markdown",
   "metadata": {},
   "source": [
    "# Интегрирование"
   ]
  },
  {
   "cell_type": "code",
   "execution_count": 6,
   "metadata": {
    "ExecuteTime": {
     "end_time": "2021-05-07T11:37:16.478696Z",
     "start_time": "2021-05-07T11:37:16.472057Z"
    }
   },
   "outputs": [],
   "source": [
    "def integral(x0, x1):\n",
    "    \"\"\"\n",
    "    [x0, x1] - отрезок\n",
    "    \"\"\"\n",
    "    step = (x1 - x0) / 50\n",
    "    x = x0\n",
    "    fx0 = 0\n",
    "\n",
    "    integralMean = np.array([])\n",
    "    integralTrapeze = np.array([])\n",
    "    integralSimpsons = np.array([])\n",
    "\n",
    "    value_mean = 0\n",
    "    value_trapez = 0\n",
    "    value_simpson = 0\n",
    "\n",
    "    while x < x1:\n",
    "        value_mean += math.sin(x + step / 2) * step\n",
    "        integralMean = np.append(integralMean, value_mean)\n",
    "\n",
    "        value_trapez += step * (math.sin(x + step) + math.sin(x)) / 2\n",
    "        integralTrapeze = np.append(integralTrapeze, value_trapez)\n",
    "\n",
    "        value_simpson += 1 / 6 * step * (math.sin(x) + 4 * sin(x + step / 2) +\n",
    "                                         sin(x + step))\n",
    "        integralSimpsons = np.append(integralSimpsons, value_simpson)\n",
    "\n",
    "        x += step\n",
    "\n",
    "    x = np.linspace(x0, x1, 50)\n",
    "    plt.figure(figsize=(18, 3))\n",
    "\n",
    "    plt.subplot(131)\n",
    "    plt.plot(x, integralMean, label='Mean')\n",
    "    plt.legend()\n",
    "    plt.subplot(132)\n",
    "    plt.plot(x, integralTrapeze, label='Trapeze')\n",
    "    plt.legend()\n",
    "    plt.subplot(133)\n",
    "    plt.plot(x, integralSimpsons, label='Simpson')\n",
    "    plt.legend()\n",
    "\n",
    "    plt.show()"
   ]
  },
  {
   "cell_type": "markdown",
   "metadata": {},
   "source": [
    " * Посмотрим на графики"
   ]
  },
  {
   "cell_type": "code",
   "execution_count": 7,
   "metadata": {
    "ExecuteTime": {
     "end_time": "2021-05-07T11:37:16.958869Z",
     "start_time": "2021-05-07T11:37:16.738087Z"
    }
   },
   "outputs": [
    {
     "data": {
      "image/png": "[encoded data removed]",
      "text/plain": [
       "<Figure size 1296x216 with 3 Axes>"
      ]
     },
     "metadata": {
      "needs_background": "light"
     },
     "output_type": "display_data"
    }
   ],
   "source": [
    "integral(0, 2 * math.pi)"
   ]
  },
  {
   "cell_type": "code",
   "execution_count": 8,
   "metadata": {
    "ExecuteTime": {
     "end_time": "2021-05-07T11:37:16.974836Z",
     "start_time": "2021-05-07T11:37:16.968994Z"
    }
   },
   "outputs": [],
   "source": [
    "def integral_(x0, x1, func, fineness=20):\n",
    "    \"\"\"\n",
    "    [x0, x1] - отрезок\n",
    "    fineness - разбиение\n",
    "    \"\"\"\n",
    "    step = (x1 - x0) / fineness\n",
    "    x = x0\n",
    "\n",
    "    integralMean = np.array([])\n",
    "    integralTrapeze = np.array([])\n",
    "    integralSimpsons = np.array([])\n",
    "\n",
    "    value_mean = 0\n",
    "    value_trapez = 0\n",
    "    value_simpson = 0\n",
    "\n",
    "    index = 0\n",
    "    while x < x1 and index < fineness:\n",
    "        value_mean += func(x + step / 2) * step\n",
    "        integralMean = np.append(integralMean, value_mean)\n",
    "\n",
    "        value_trapez += step * (func(x + step) + func(x)) / 2\n",
    "        integralTrapeze = np.append(integralTrapeze, value_trapez)\n",
    "\n",
    "        value_simpson += 1 / 6 * step * (func(x) + 4 * func(x + step / 2) +\n",
    "                                         func(x + step))\n",
    "        integralSimpsons = np.append(integralSimpsons, value_simpson)\n",
    "\n",
    "        x += step\n",
    "        index += 1\n",
    "\n",
    "    x0x1 = np.linspace(x0, x1, fineness)\n",
    "    plt.figure(figsize=(18, 3))\n",
    "\n",
    "    plt.subplot(141)\n",
    "    plt.plot(x0x1, integralMean, label='Mean')\n",
    "    plt.legend()\n",
    "\n",
    "    plt.subplot(142)\n",
    "    plt.plot(x0x1, integralTrapeze, label='Trapeze')\n",
    "    plt.legend()\n",
    "\n",
    "    plt.subplot(143)\n",
    "    plt.plot(x0x1, integralSimpsons, label='Simpson')\n",
    "    plt.legend()\n",
    "\n",
    "    plt.subplot(144)\n",
    "    plt.plot(x0x1, integralSimpsons, label='Simpson')\n",
    "    plt.plot(x0x1, integralTrapeze, label='Trapeze')\n",
    "    plt.plot(x0x1, integralMean, label='Mean')\n",
    "    plt.legend()\n",
    "\n",
    "    plt.show()"
   ]
  },
  {
   "cell_type": "markdown",
   "metadata": {},
   "source": [
    "* Посмотрим на графики"
   ]
  },
  {
   "cell_type": "code",
   "execution_count": 9,
   "metadata": {
    "ExecuteTime": {
     "end_time": "2021-05-07T11:37:17.923808Z",
     "start_time": "2021-05-07T11:37:17.679560Z"
    }
   },
   "outputs": [
    {
     "data": {
      "image/png": "[encoded data removed]",
      "text/plain": [
       "<Figure size 1296x216 with 4 Axes>"
      ]
     },
     "metadata": {
      "needs_background": "light"
     },
     "output_type": "display_data"
    }
   ],
   "source": [
    "sinF = lambda x: math.sin(x)\n",
    "x2F = lambda x: x**2\n",
    "\n",
    "integral_(-4, 4, x2F, 20)"
   ]
  },
  {
   "cell_type": "markdown",
   "metadata": {},
   "source": [
    "# Методы Эйлера для задачи Коши"
   ]
  },
  {
   "cell_type": "code",
   "execution_count": 10,
   "metadata": {
    "ExecuteTime": {
     "end_time": "2021-05-07T11:37:18.798977Z",
     "start_time": "2021-05-07T11:37:18.595358Z"
    }
   },
   "outputs": [
    {
     "data": {
      "image/png": "[encoded data removed]",
      "text/plain": [
       "<Figure size 1296x216 with 2 Axes>"
      ]
     },
     "metadata": {
      "needs_background": "light"
     },
     "output_type": "display_data"
    }
   ],
   "source": [
    "def methodEuler(F, u0, tau, T):\n",
    "    N_t = int(round(T / tau))\n",
    "    F_ = lambda t, u: np.asarray(F(t, u))\n",
    "    t = np.linspace(0, N_t * tau, N_t + 1)\n",
    "    u = np.zeros((N_t + 1, len(u0)))\n",
    "    u[0] = np.array(u0)\n",
    "    for n in range(N_t):\n",
    "        u[n + 1] = u[n] + tau * F_(t[n], u[n])\n",
    "\n",
    "    return u, t\n",
    "\n",
    "\n",
    "def backwardEuler(F, u0, tau, T):\n",
    "    N_t = int(round(T / tau))\n",
    "    F_ = lambda t, u: np.asarray(F(t, u))\n",
    "    t = np.linspace(0, N_t * tau, N_t + 1)\n",
    "    u = np.zeros((N_t + 1, len(u0)))\n",
    "    u[0] = np.array(u0)\n",
    "\n",
    "    def phi(z, t, v):\n",
    "        return z - tau * F_(t, z) - v\n",
    "\n",
    "    for n in range(N_t):\n",
    "        u[n + 1] = optimize.fsolve(phi, u[n], args=(t[n], u[n]))\n",
    "\n",
    "    return u, t\n",
    "\n",
    "\n",
    "def func(t, u):\n",
    "    return t**np.sin(t)\n",
    "\n",
    "\n",
    "u, t = methodEuler(F=func, u0=[100], tau=0.1, T=100)\n",
    "u1, t1 = backwardEuler(F=func, u0=[100], tau=0.1, T=100)\n",
    "\n",
    "plt.figure(figsize=(18, 3))\n",
    "plt.subplot(131)\n",
    "plt.plot(t, u, label='Euler method')\n",
    "plt.legend()\n",
    "\n",
    "plt.subplot(132)\n",
    "plt.plot(t1, u1, label='Backward Euler method')\n",
    "plt.legend()\n",
    "\n",
    "plt.show()"
   ]
  },
  {
   "cell_type": "markdown",
   "metadata": {},
   "source": [
    "# Runge–Kutta method"
   ]
  },
  {
   "cell_type": "code",
   "execution_count": 11,
   "metadata": {
    "ExecuteTime": {
     "end_time": "2021-05-07T11:37:19.488872Z",
     "start_time": "2021-05-07T11:37:19.484364Z"
    }
   },
   "outputs": [],
   "source": [
    "def f(x, y):\n",
    "    return x * np.sqrt(y)\n",
    "\n",
    "\n",
    "def theoretical(x):\n",
    "    return (x**2 + 4)**2 / 16"
   ]
  },
  {
   "cell_type": "code",
   "execution_count": 12,
   "metadata": {
    "ExecuteTime": {
     "end_time": "2021-05-07T11:37:20.076554Z",
     "start_time": "2021-05-07T11:37:20.063209Z"
    }
   },
   "outputs": [],
   "source": [
    "a = 0\n",
    "b = 10\n",
    "h = 0.1\n",
    "n = int((b - a) / 0.1)\n",
    "\n",
    "x = np.linspace(a, b, n)\n",
    "y = np.zeros(n, float)\n",
    "y[0] = 1.\n",
    "\n",
    "for i in range(1, n):\n",
    "    k1 = f(x[i - 1], y[i - 1])\n",
    "    k2 = f(x[i - 1] + h / 2, y[i - 1] + h * k1 / 2)\n",
    "    k3 = f(x[i - 1] + h / 2, y[i - 1] + h * k2 / 2)\n",
    "    k4 = f(x[i - 1] + h, y[i - 1] + h * k3)\n",
    "    y[i] = y[i - 1] + h * (k1 + 2 * k2 + 2 * k3 + k4) / 6"
   ]
  },
  {
   "cell_type": "markdown",
   "metadata": {},
   "source": [
    "* Посмотрим на график"
   ]
  },
  {
   "cell_type": "code",
   "execution_count": 13,
   "metadata": {
    "ExecuteTime": {
     "end_time": "2021-05-07T11:37:21.206025Z",
     "start_time": "2021-05-07T11:37:21.087614Z"
    }
   },
   "outputs": [
    {
     "data": {
      "image/png": "[encoded data removed]",
      "text/plain": [
       "<Figure size 432x288 with 1 Axes>"
      ]
     },
     "metadata": {
      "needs_background": "light"
     },
     "output_type": "display_data"
    }
   ],
   "source": [
    "plt.plot(x, y, label='Runge–Kutta method')\n",
    "plt.plot(x, theoretical(x), label=\"Theory\")\n",
    "plt.legend()\n",
    "plt.show()"
   ]
  },
  {
   "cell_type": "code",
   "execution_count": null,
   "metadata": {},
   "outputs": [],
   "source": []
  }
 ],
 "metadata": {
  "kernelspec": {
   "display_name": "Python 3",
   "language": "python",
   "name": "python3"
  },
  "language_info": {
   "codemirror_mode": {
    "name": "ipython",
    "version": 3
   },
   "file_extension": ".py",
   "mimetype": "text/x-python",
   "name": "python",
   "nbconvert_exporter": "python",
   "pygments_lexer": "ipython3",
   "version": "3.8.5"
  },
  "nbTranslate": {
   "displayLangs": [
    "*"
   ],
   "hotkey": "alt-t",
   "langInMainMenu": true,
   "sourceLang": "en",
   "targetLang": "fr",
   "useGoogleTranslate": true
  },
  "toc": {
   "base_numbering": 1,
   "nav_menu": {},
   "number_sections": true,
   "sideBar": true,
   "skip_h1_title": false,
   "title_cell": "Table of Contents",
   "title_sidebar": "Contents",
   "toc_cell": false,
   "toc_position": {},
   "toc_section_display": true,
   "toc_window_display": false
  },
  "varInspector": {
   "cols": {
    "lenName": 16,
    "lenType": 16,
    "lenVar": 40
   },
   "kernels_config": {
    "python": {
     "delete_cmd_postfix": "",
     "delete_cmd_prefix": "del ",
     "library": "var_list.py",
     "varRefreshCmd": "print(var_dic_list())"
    },
    "r": {
     "delete_cmd_postfix": ") ",
     "delete_cmd_prefix": "rm(",
     "library": "var_list.r",
     "varRefreshCmd": "cat(var_dic_list()) "
    }
   },
   "types_to_exclude": [
    "module",
    "function",
    "builtin_function_or_method",
    "instance",
    "_Feature"
   ],
   "window_display": false
  }
 },
 "nbformat": 4,
 "nbformat_minor": 4
}

{
 "cells": [
  {
   "cell_type": "code",
   "execution_count": 1,
   "metadata": {},
   "outputs": [],
   "source": [
    "import numpy as np\n",
    "import matplotlib.pyplot as plt\n",
    "from matplotlib import animation\n",
    "\n",
    "%matplotlib widget"
   ]
  },
  {
   "cell_type": "markdown",
   "metadata": {},
   "source": [
    "## Механические системы\n",
    "### Уравнения движения\n",
    "Типичным примером движения является падение предметов у земной поверхности. Простешее описание движения не учитывает возможного вращения и внутренних движений, тем самым описывая идеализированный объект, который называется материальной точкой, т.е. объектом, не обладающим внутренней структурой. На самом деле, такие объекты как планеты, мячи, какмни и атомы не являются \"точками\", однако во многих случаях можно считаь их материальными точками.\n",
    "\n",
    "### 1. Одномерное движение\n",
    "Рассмотрим одномерное движения, для описания которого нужна только одна пространственная координата. Известно, что можно определить мгновенные координату $y(t)$, скорость $v(t)$ и ускорение $a(t)$ на языке дифференциальных уравнений:\n",
    "\n",
    "$$\\tag{1.1} v(t)=\\frac{dy(t)}{dt}$$\n",
    "\n",
    "и\n",
    "\n",
    "$$\\tag{1.2} a(t)=\\frac{dv(t)}{dt}$$\n",
    "\n",
    "Данные величины называются *кинематическими*, т.к. они описывают движение безотносительно причины, его вызывающей.\n",
    "\n",
    "\n",
    "Возникает вопрос о необходимости понятия ускорения в кинематике. В механиеке Ньютона ускорение определяется действующей на тело силой, что указано во втором законе Ньютона:\n",
    "\n",
    "$$\\tag{1.3} a(t)=\\frac{1}{m}F(,y, v, t),$$\n",
    "\n",
    "где $F$- равнодействующая сила, $m$ - инертная масса. В общем случае сила зависит от времени, координаты и скорости. Скрытый смысл закона Ньютона заключается в том, что движение материальной точки не зависит от $\\frac{d^2v}{dt^2}$  и любых производных по скорости  более высокого порядка. Возможность найти простое объяснение для движения является свойством природы, а не математического описания.\n",
    "\n",
    "Для описания движения материальной точки необходимо решить систему из двух уравнений *первого порядка* $(1.1), (1.2)$. Очень часто их объединят в одно дифференциальное уравнение *второго порядка* относительно координаты:\n",
    "\n",
    "$$\\tag{1.4} \\frac{d^2y(t)}{dt^2} = \\frac{F}{m}$$\n",
    "\n",
    "### 2. Сила, действующая на падающее тело\n",
    "\n",
    "В случае отсутствия воздуха, все тела независимо от массы, размеров и состава на одинаковом расстоянии от земной поверхности имеют одинаковое ускорение. Такое иделализированное движение, при котором пренебрегают сопротивлением воздуха, называют \"свободным падением\". Ускорение свободного падения  обычно обозначают буквой g и оно направлено к земной поверхности. В близи поверхности Земли оно приблизительно равно $9.8 \\ м/с^2$. Выберем систему координат, к которой положительное направление оси смотрит вниз, как показано на рисунке.\n",
    "\n",
    "<img src=\"images/coordinate_system.jpg\"/>\n",
    "\n",
    "В этом случае $a=+g$ и решение уравнения $(1.4)$ можно записать в виде\n",
    "\n",
    "$$\\tag{2.1а} v(t)=v_0 +gt$$\n",
    "\n",
    "и\n",
    "\n",
    "$$\\tag{2.1б} y(t)=y_0 + v_0t + \\frac{1}{2}gt,$$\n",
    "\n",
    "где $y_0$ и $v_0$ обозначают начальные координату и скорость материальной точки соответственно. Заметим, что для точного определения движения необходимо два начальных условия.\n",
    "\n",
    "Для свободного падения вблизи земной поверхности аналитическое решение уравнения $(2.1)$ является настолько простым, что нет необходимости останавливаться на нём подробно. Однако нетрудно представть реалистические изменения уравнений движения в гравитационном поле Земли, которые не будут иметь простых аналитических решений. Например ускорение не будет константой, если учитывать зависимость силы тяжести от расстояния до центра Земли. В соответствие с законом тяготения Ньютона сила, действующая на тело массой $m$ равна\n",
    "\n",
    "$$\\tag{2.2} F=\\frac{GMm}{(R+y)^2}=\\frac{gm}{(1+\\frac{y}{R})^2},$$\n",
    "\n",
    "где $y$ - расстояние от поверхности Земли, $R$ - радиус Земли, $G$ - постоянная всемирного тяготения, $M$ - масса Земли, $g=\\frac{GM}{R^2}$.\n",
    "\n",
    "Другой возможной модификацией задачи о свободном падении является учёт тормозящей силы, обусловленной сопротивленим воздуха. Направление этой тормозящей силы должно быть противоположно скорости движения тела. Рассмотрим сначала падение материальной точки. Тормозящая сила $F_d$ направлена вверх, как показано на рисунке.\n",
    "\n",
    "<img src=\"images/break_force.jpg\"/>\n",
    "\n",
    "Если воспользоваться системой координат, показанной на перовм рисунке, то полную силу, действующую на материальную точку, можно записать в виде\n",
    "\n",
    "$$\\tag{2.3} F=F_g-F_d=mg-F_d.$$\n",
    "\n",
    "В общем случае зависимость  $F_d$  от скорости необходимо определять эмпирически, проводя конечную серию наблюдений положения тела. Один из способов определния функции $F_d(v)$ заключается в измерении коррдинаты $y$ как функции $t$ и в получении зависимости скорости и ускорения от времени. Используя эту информацию, можно найти зависимость ускорения от скорости $v$  и получить функцию $F_d(v)$. Однако, обычно такой метод непригоден, поскольку вычисление наклона кривых, необходимое для нахождения скорости и ускорения, сопряжено с большим ошибками. Более хороший метод представлет собой  обратную процедуру. Для функции $F_d$ предполагается  какой-то определённый вид зависимости  от скорости $v$, и эта формула используется для нахождения функции $y(t)$. Если вычисленные значения функции $y(t)$ согласуются с экспериментальными, то предложенная завсисимость $F_d(v)$ считается экспериментально подтверждённой.\n",
    "\n",
    "Наиболее общими зависимостями силы сопротивления от скорости являются\n",
    "\n",
    "$$\\tag{2.4а} F_d(v)=k_1v$$\n",
    "\n",
    "и\n",
    "\n",
    "$$\\tag{2.4б} F_d(v)=k_2v^2,$$\n",
    "\n",
    "а параметры $k_1$ и $k_2$ зависят от свойств среды и геометрии тела. Подчеркнём, что зависимости $(2.4)$ не являются точными законами физики, а представляют собой полезные *феноменологические* выражения, приближённо описывающие $F_d(v)$ в ограниченном диапазоне скоростей. Ввиду того, что функция $F_d(v)$ возрастающая, существет *предельная*. или *установившаяся*, скорость, соответствующая условию $F_d=F_g$ и нулевому ускорению. Эту скорость можно найти из $(2.3), (2.4)$. В результате получим\n",
    "\n",
    "$$\\tag{2.5а} v_1=\\frac{mg}{k_1}$$\n",
    "\n",
    "или\n",
    "\n",
    "$$\\tag{2.5б} v_2=(\\frac{mg}{k_2})^\\frac{1}{2},$$\n",
    "\n",
    "соответственно для линейного и квадратичного случаев. Часто удобно измерять скорости в единицах установившейся скорости. Используя $(2.4),(2.5)$ выпишем $F_d$ для линейного и квадратичного случаев:\n",
    "\n",
    "$$\\tag{2.6а} F_d=k_1v_1(\\frac{v}{v_1}) = mg(\\frac{v}{v_1})$$\n",
    "\n",
    "и\n",
    "\n",
    "$$\\tag{2.6б} F_d=k_2v_2^2(\\frac{v}{v_2})^2 = mg(\\frac{v}{v_2})^2.$$\n",
    "\n",
    "Отсюда равнодействующую ему силу, действующую на падающее тело, можно записать в виде\n",
    "\n",
    "$$\\tag{2.7а} F_1(v)=mg(1-\\frac{v}{v_1})$$\n",
    "\n",
    "или\n",
    "\n",
    "$$\\tag{2.7б} F_2(v)=mg(1-\\frac{v^2}{v_2^2})$$\n",
    "\n",
    "### 3. Численное решение уравнений движения\n",
    "\n",
    "Поскольку аналитически решить уравнения движения $(1.4)$ с равнодействующей силой, определяемой выражение $(2.7б)$, не просто. мы вынуждены прибегнуть к численным методам. Метод Эйлера просто обощается на случай решения  дифференциального уравнения второго порядка. Сначала переписываем уравнение $(1.4)$ в виде системы двух дифференциальных уравнений первого порядка $(1.1),(1.2)$. Обозначим через $\\Delta t$ шаг по времени, тогда момент времени $t_n$, соответствующий $n$-му шагу, равен \n",
    "\n",
    "$$ \\tag{3.1} t_n=t_0+n\\Delta t.$$\n",
    "\n",
    "Обозначим также через $a_n, v_n \\ и\\ y_n$ значения ускорения, скорости и координаты на $n$-м шаге, например $a_n=a_n(y_n,v_n,t_n)$. Прямое обобщение метода Эйлера, принимает вид\n",
    "\n",
    "$$\\tag{3.2а} v_{n+1}=v_{n}+a_{n}\\Delta t$$\n",
    "\n",
    "и\n",
    "\n",
    "$$\\tag{3.2б} y_{n+1}=y_{n}+v_{n}\\Delta t$$\n",
    "\n",
    "Заметим, что $v_{n+1}$ - скорость в конечной точке интервала - вычисляется через $a_{n}$ - производную скорости в *начальной точке* этого интервала. Аналогично $y_{n+1}$ - координата в конечной точке интервала вычисляется через $v_{n}$ - производную координаты в *начальной точке* интервала.\n",
    "\n",
    "Использованный алгоритм численного решения дифференциального уравнения не является единственным. Например, одно простое изменение выражений $(3.2)$ состоит в том, чтобы определить $y_{n+1}$ через $v_{n+1}$ - скорость в *конечной точке* интервала, а не в начальной точке. Запишем такой модифицированный метод Эйлера в следующем виде:\n",
    "\n",
    "$$\\tag{3.3а} v_{n+1}=v_{n}+a_{n}\\Delta t$$\n",
    "\n",
    "и\n",
    "\n",
    "$$\\tag{3.3б} y_{n+1}=y_{n}+v_{n+1}\\Delta t$$\n",
    "\n",
    "Поскольку алгоритм $(3.3)$, был тщательно рассмотрен Кромером, мы будем называть выражения  $(3.3)$ методом Эйлера-Кромера.\n",
    "\n",
    "### Задание:\n",
    "#### Реализовать одномерное падение тела с заданной высоты и заданной начальной скоростью, постоянным ускорением, нарисовать графики зависимостей y(t), v(t), a(t), кинетической, потенциальной и полной энергии от времени, нарисовать анимацию движения тела."
   ]
  },
  {
   "cell_type": "code",
   "execution_count": 2,
   "metadata": {},
   "outputs": [],
   "source": [
    "h0 = 10\n",
    "v0 = 0\n",
    "g0 = 9.8\n",
    "tau = 0.01\n",
    "mass = 1"
   ]
  },
  {
   "cell_type": "code",
   "execution_count": 3,
   "metadata": {},
   "outputs": [],
   "source": [
    "def falling_1d(h0, v0, g0, tau):\n",
    "    \n",
    "    t = [0]\n",
    "    h, v = [h0], [v0]\n",
    "\n",
    "    while h[-1] > 0:\n",
    "        \n",
    "        t += [t[-1] + tau]\n",
    "        \n",
    "        v += [v[-1] + tau * g0]\n",
    "        \n",
    "        h += [h[-1] - v[-1] * tau]\n",
    "        \n",
    "    return np.array(t), np.array(h), np.array(v)"
   ]
  },
  {
   "cell_type": "code",
   "execution_count": 4,
   "metadata": {},
   "outputs": [],
   "source": [
    "t, h, v = falling_1d(h0, v0, g0, tau)\n",
    "\n",
    "p = mass * g0 * h\n",
    "k = mass * v ** 2 / 2"
   ]
  },
  {
   "cell_type": "code",
   "execution_count": 5,
   "metadata": {},
   "outputs": [
    {
     "data": {
      "application/vnd.jupyter.widget-view+json": {
       "model_id": "322ab594cd2c43bf8caad9cef9043589",
       "version_major": 2,
       "version_minor": 0
      },
      "text/plain": [
       "Canvas(toolbar=Toolbar(toolitems=[('Home', 'Reset original view', 'home', 'home'), ('Back', 'Back to previous …"
      ]
     },
     "metadata": {},
     "output_type": "display_data"
    }
   ],
   "source": [
    "fig, axes = plt.subplots(4, 1, figsize=(9, 24))\n",
    "\n",
    "axes[0].plot(t, h)\n",
    "axes[0].grid()\n",
    "axes[0].set_title(\"График зависимости высоты от времени\")\n",
    "axes[0].set_xlabel(\"t\")\n",
    "axes[0].set_ylabel(\"h\")\n",
    "\n",
    "axes[1].plot(t, v)\n",
    "axes[1].grid()\n",
    "axes[1].set_title(\"График зависимости скорости от времени\")\n",
    "axes[1].set_xlabel(\"t\")\n",
    "axes[1].set_ylabel(\"v\")\n",
    "\n",
    "axes[2].plot(t, p)\n",
    "axes[2].grid()\n",
    "axes[2].set_title(\"График зависимости потенциальной энергии от времени\")\n",
    "axes[2].set_xlabel(\"t\")\n",
    "axes[2].set_ylabel(\"p\")\n",
    "\n",
    "axes[3].plot(t, k)\n",
    "axes[3].grid()\n",
    "axes[3].set_title(\"График зависимости кинетической энергии от времени\")\n",
    "axes[3].set_xlabel(\"t\")\n",
    "axes[3].set_ylabel(\"k\")\n",
    "\n",
    "plt.show()"
   ]
  },
  {
   "cell_type": "code",
   "execution_count": 6,
   "metadata": {},
   "outputs": [],
   "source": [
    "def animate(i, h, m):\n",
    "    \n",
    "    plt.clf()\n",
    "\n",
    "    global h0\n",
    "    \n",
    "    plt.scatter(0, h[i * m], marker='.')\n",
    "    plt.xlim(-1, 1)\n",
    "    plt.ylim(-0.2, h0)\n"
   ]
  },
  {
   "cell_type": "code",
   "execution_count": 7,
   "metadata": {},
   "outputs": [
    {
     "data": {
      "application/vnd.jupyter.widget-view+json": {
       "model_id": "4e170ea41ce540019438a0ecf6fd03d7",
       "version_major": 2,
       "version_minor": 0
      },
      "text/plain": [
       "Canvas(toolbar=Toolbar(toolitems=[('Home', 'Reset original view', 'home', 'home'), ('Back', 'Back to previous …"
      ]
     },
     "metadata": {},
     "output_type": "display_data"
    }
   ],
   "source": [
    "fig = plt.figure(figsize=(5, 5))\n",
    "\n",
    "m = 1\n",
    "\n",
    "ani = animation.FuncAnimation(fig, animate, frames=len(t) // m, fargs=(h, m), interval = 1, repeat=False)"
   ]
  },
  {
   "cell_type": "code",
   "execution_count": 8,
   "metadata": {},
   "outputs": [
    {
     "name": "stderr",
     "output_type": "stream",
     "text": [
      "MovieWriter ffmpeg unavailable; using Pillow instead.\n"
     ]
    }
   ],
   "source": [
    "ani.save(\"falling_1d.gif\")"
   ]
  },
  {
   "cell_type": "code",
   "execution_count": 9,
   "metadata": {},
   "outputs": [],
   "source": [
    "ani.event_source.stop()\n",
    "#plt.close(\"all\")"
   ]
  },
  {
   "cell_type": "markdown",
   "metadata": {},
   "source": [
    "### Задание:\n",
    "#### Реализовать одномерное падение тела с заданной высоты и заданной начальной скоростью, ускорением, зависящим от высоты тела над поверхностью, нарисовать графики зависимостей y(t), v(t), a(t), кинетической, потенциальной и полной энергии от времени, нарисовать анимацию движения тела."
   ]
  },
  {
   "cell_type": "code",
   "execution_count": 10,
   "metadata": {},
   "outputs": [],
   "source": [
    "h0 = 10\n",
    "v0 = 0\n",
    "tau = 0.01\n",
    "mass = 1"
   ]
  },
  {
   "cell_type": "code",
   "execution_count": 11,
   "metadata": {},
   "outputs": [],
   "source": [
    "def falling_1d_noncg(h0, v0, tau):\n",
    "    \n",
    "    MG = 3.986025e14\n",
    "    R = 6.371e6\n",
    "    \n",
    "    t = [0]\n",
    "    h, v = [h0], [v0]\n",
    "    g = [MG / (R + h0) ** 2]\n",
    "\n",
    "    while h[-1] > 0:\n",
    "\n",
    "        t += [t[-1] + tau]\n",
    "        v += [v[-1] + tau * g[-1]]\n",
    "        h += [h[-1] - v[-1] * tau]\n",
    "        g += [MG / (R + h[-1]) ** 2]\n",
    "        \n",
    "    return np.array(t), np.array(h), np.array(v), np.array(g)"
   ]
  },
  {
   "cell_type": "code",
   "execution_count": 12,
   "metadata": {},
   "outputs": [],
   "source": [
    "t, h, v, g = falling_1d_noncg(h0, v0, tau)\n",
    "\n",
    "p = m * g * h\n",
    "k = m * v ** 2 / 2"
   ]
  },
  {
   "cell_type": "code",
   "execution_count": 13,
   "metadata": {},
   "outputs": [
    {
     "data": {
      "application/vnd.jupyter.widget-view+json": {
       "model_id": "4a146cf08fa945f9a43dc917c7aa15c9",
       "version_major": 2,
       "version_minor": 0
      },
      "text/plain": [
       "Canvas(toolbar=Toolbar(toolitems=[('Home', 'Reset original view', 'home', 'home'), ('Back', 'Back to previous …"
      ]
     },
     "metadata": {},
     "output_type": "display_data"
    }
   ],
   "source": [
    "fig, axes = plt.subplots(5, 1, figsize=(9, 30))\n",
    "\n",
    "axes[0].plot(t, h)\n",
    "axes[0].grid()\n",
    "axes[0].set_title(\"График зависимости высоты от времени\")\n",
    "axes[0].set_xlabel(\"t\")\n",
    "axes[0].set_ylabel(\"h\")\n",
    "\n",
    "axes[1].plot(t, v)\n",
    "axes[1].grid()\n",
    "axes[1].set_title(\"График зависимости скорости от времени\")\n",
    "axes[1].set_xlabel(\"t\")\n",
    "axes[1].set_ylabel(\"v\")\n",
    "\n",
    "axes[2].plot(t, p)\n",
    "axes[2].grid()\n",
    "axes[2].set_title(\"График зависимости потенциальной энергии от времени\")\n",
    "axes[2].set_xlabel(\"t\")\n",
    "axes[2].set_ylabel(\"p\")\n",
    "\n",
    "axes[3].plot(t, k)\n",
    "axes[3].grid()\n",
    "axes[3].set_title(\"График зависимости кинетической энергии от времени\")\n",
    "axes[3].set_xlabel(\"t\")\n",
    "axes[3].set_ylabel(\"k\")\n",
    "\n",
    "axes[4].plot(t, g)\n",
    "axes[4].grid()\n",
    "axes[4].set_title(\"График зависимости ускорения свободного падения от времени\")\n",
    "axes[4].set_xlabel(\"t\")\n",
    "axes[4].set_ylabel(\"g\")\n",
    "\n",
    "plt.show()\n"
   ]
  },
  {
   "cell_type": "code",
   "execution_count": 14,
   "metadata": {},
   "outputs": [
    {
     "data": {
      "application/vnd.jupyter.widget-view+json": {
       "model_id": "fbe3058ae55b47d281602848ddfc92f2",
       "version_major": 2,
       "version_minor": 0
      },
      "text/plain": [
       "Canvas(toolbar=Toolbar(toolitems=[('Home', 'Reset original view', 'home', 'home'), ('Back', 'Back to previous …"
      ]
     },
     "metadata": {},
     "output_type": "display_data"
    }
   ],
   "source": [
    "fig = plt.figure(figsize=(5, 5))\n",
    "\n",
    "m = 1\n",
    "\n",
    "ani = animation.FuncAnimation(fig, animate, frames=len(t) // m, fargs=(h, m), interval = 1, repeat=False)"
   ]
  },
  {
   "cell_type": "code",
   "execution_count": 15,
   "metadata": {},
   "outputs": [
    {
     "name": "stderr",
     "output_type": "stream",
     "text": [
      "MovieWriter ffmpeg unavailable; using Pillow instead.\n"
     ]
    }
   ],
   "source": [
    "ani.save(\"falling_1d_noncg.gif\")"
   ]
  },
  {
   "cell_type": "code",
   "execution_count": 16,
   "metadata": {},
   "outputs": [],
   "source": [
    "ani.event_source.stop()\n",
    "#plt.close(\"all\")"
   ]
  },
  {
   "cell_type": "markdown",
   "metadata": {},
   "source": [
    "### Задание:\n",
    "#### Реализовать одномерное падение тела с заданной высоты и заданной начальной скоростью, нарисовать графики зависимостей y(t), v(t), a(t), кинетической, потенциальной и полной энергии от времени, нарисовать анимацию движения тела. Ограничить y снизу нулём. Удар неупругий."
   ]
  },
  {
   "cell_type": "code",
   "execution_count": 17,
   "metadata": {},
   "outputs": [],
   "source": [
    "h0 = 10\n",
    "v0 = 0\n",
    "g0 = 9.8\n",
    "tau = 0.01\n",
    "mass = 1"
   ]
  },
  {
   "cell_type": "code",
   "execution_count": 18,
   "metadata": {},
   "outputs": [],
   "source": [
    "def falling_1d_nonel(h0, v0, g0, tau):  # Графики такие же как в первой задаче\n",
    "    \n",
    "    t = [0]\n",
    "    h, v = [h0], [v0]\n",
    "\n",
    "    while h[-1] > 0:\n",
    "        \n",
    "        t += [t[-1] + tau]\n",
    "        \n",
    "        v += [v[-1] + tau * g0]\n",
    "        \n",
    "        h += [h[-1] - v[-1] * tau]\n",
    "        \n",
    "    return np.array(t), np.array(h), np.array(v)"
   ]
  },
  {
   "cell_type": "code",
   "execution_count": 32,
   "metadata": {},
   "outputs": [
    {
     "data": {
      "application/vnd.jupyter.widget-view+json": {
       "model_id": "28ef0b30cf964c85bdc326a0842d979f",
       "version_major": 2,
       "version_minor": 0
      },
      "text/plain": [
       "Canvas(toolbar=Toolbar(toolitems=[('Home', 'Reset original view', 'home', 'home'), ('Back', 'Back to previous …"
      ]
     },
     "metadata": {},
     "output_type": "display_data"
    }
   ],
   "source": [
    "t, h, v = falling_1d_nonel(h0, v0, g0, tau)\n",
    "\n",
    "fig = plt.figure(figsize=(5, 5))\n",
    "\n",
    "m = 1\n",
    "\n",
    "ani = animation.FuncAnimation(fig, animate, frames=len(t) // m, fargs=(h, m), interval = 1, repeat=False)"
   ]
  },
  {
   "cell_type": "code",
   "execution_count": 33,
   "metadata": {},
   "outputs": [
    {
     "name": "stderr",
     "output_type": "stream",
     "text": [
      "MovieWriter ffmpeg unavailable; using Pillow instead.\n"
     ]
    }
   ],
   "source": [
    "ani.save(\"falling_1d_nonel.gif\")"
   ]
  },
  {
   "cell_type": "code",
   "execution_count": 34,
   "metadata": {},
   "outputs": [],
   "source": [
    "ani.event_source.stop()\n",
    "#plt.close('all')"
   ]
  },
  {
   "cell_type": "markdown",
   "metadata": {},
   "source": [
    "### Задание:\n",
    "#### Реализовать одномерное падение тела с заданной высоты и заданной начальной скоростью, нарисовать графики зависимостей y(t), v(t), a(t), кинетической, потенциальной и полной энергии от времени, нарисовать анимацию движения тела. Ограничить y снизу нулём. Удар абсолютно упругий."
   ]
  },
  {
   "cell_type": "code",
   "execution_count": 35,
   "metadata": {},
   "outputs": [],
   "source": [
    "h0 = 10\n",
    "v0 = 0\n",
    "g0 = 9.8\n",
    "tau = 0.01\n",
    "mass = 1"
   ]
  },
  {
   "cell_type": "code",
   "execution_count": 36,
   "metadata": {},
   "outputs": [],
   "source": [
    "def falling_1d_el(h0, v0, g0, tau):  # Графики такие же как в первой задаче\n",
    "    \n",
    "    t = [0]\n",
    "    h, v = [h0], [v0]\n",
    "\n",
    "    while h[-1] > 0:\n",
    "        \n",
    "        t += [t[-1] + tau]\n",
    "        \n",
    "        v += [v[-1] - tau * g0]\n",
    "        \n",
    "        h += [h[-1] + v[-1] * tau]\n",
    "    \n",
    "    v [-1] = -v[-1]\n",
    "    \n",
    "    while v[-1] > 0:\n",
    "        \n",
    "        t += [t[-1] + tau]\n",
    "        \n",
    "        v += [v[-1] - tau * g0]\n",
    "        \n",
    "        h += [h[-1] + v[-1] * tau]\n",
    "        \n",
    "    \n",
    "    return np.array(t), np.array(h), np.array(v)"
   ]
  },
  {
   "cell_type": "code",
   "execution_count": 37,
   "metadata": {},
   "outputs": [],
   "source": [
    "t, h, v = falling_1d_el(h0, v0, g0, tau)\n",
    "\n",
    "p = mass * g0 * h\n",
    "k = mass * v ** 2 / 2"
   ]
  },
  {
   "cell_type": "code",
   "execution_count": 38,
   "metadata": {},
   "outputs": [
    {
     "data": {
      "application/vnd.jupyter.widget-view+json": {
       "model_id": "c8453d2ab67d435288b50fc25b97e39a",
       "version_major": 2,
       "version_minor": 0
      },
      "text/plain": [
       "Canvas(toolbar=Toolbar(toolitems=[('Home', 'Reset original view', 'home', 'home'), ('Back', 'Back to previous …"
      ]
     },
     "metadata": {},
     "output_type": "display_data"
    }
   ],
   "source": [
    "fig, axes = plt.subplots(4, 1, figsize=(9, 24))\n",
    "\n",
    "axes[0].plot(t, h)\n",
    "axes[0].grid()\n",
    "axes[0].set_title(\"График зависимости высоты от времени\")\n",
    "axes[0].set_xlabel(\"t\")\n",
    "axes[0].set_ylabel(\"h\")\n",
    "\n",
    "axes[1].plot(t, v)\n",
    "axes[1].grid()\n",
    "axes[1].set_title(\"График зависимости скорости от времени\")\n",
    "axes[1].set_xlabel(\"t\")\n",
    "axes[1].set_ylabel(\"v\")\n",
    "\n",
    "axes[2].plot(t, p)\n",
    "axes[2].grid()\n",
    "axes[2].set_title(\"График зависимости потенциальной энергии от времени\")\n",
    "axes[2].set_xlabel(\"t\")\n",
    "axes[2].set_ylabel(\"p\")\n",
    "\n",
    "axes[3].plot(t, k)\n",
    "axes[3].grid()\n",
    "axes[3].set_title(\"График зависимости кинетической энергии от времени\")\n",
    "axes[3].set_xlabel(\"t\")\n",
    "axes[3].set_ylabel(\"k\")\n",
    "\n",
    "plt.show()"
   ]
  },
  {
   "cell_type": "code",
   "execution_count": 39,
   "metadata": {},
   "outputs": [],
   "source": [
    "def animate_el(i, h, m):\n",
    "    \n",
    "    plt.clf()\n",
    "\n",
    "    global h0\n",
    "    \n",
    "    plt.scatter(0, h[i * m], marker='o')\n",
    "    plt.xlim(-1, 1)\n",
    "    plt.ylim(-0.2, h0)\n"
   ]
  },
  {
   "cell_type": "code",
   "execution_count": 42,
   "metadata": {},
   "outputs": [
    {
     "data": {
      "application/vnd.jupyter.widget-view+json": {
       "model_id": "e5502911eb4c464983da25632422b2c3",
       "version_major": 2,
       "version_minor": 0
      },
      "text/plain": [
       "Canvas(toolbar=Toolbar(toolitems=[('Home', 'Reset original view', 'home', 'home'), ('Back', 'Back to previous …"
      ]
     },
     "metadata": {},
     "output_type": "display_data"
    }
   ],
   "source": [
    "fig = plt.figure(figsize=(5, 5))\n",
    "\n",
    "m = 1\n",
    "\n",
    "ani = animation.FuncAnimation(fig, animate_el, frames=len(t) // m - 1, fargs=(h, m), interval = 1, repeat=True)"
   ]
  },
  {
   "cell_type": "code",
   "execution_count": 43,
   "metadata": {},
   "outputs": [
    {
     "name": "stderr",
     "output_type": "stream",
     "text": [
      "MovieWriter ffmpeg unavailable; using Pillow instead.\n"
     ]
    }
   ],
   "source": [
    "ani.save(\"falling_1d_elastic.gif\")"
   ]
  },
  {
   "cell_type": "code",
   "execution_count": 44,
   "metadata": {},
   "outputs": [],
   "source": [
    "ani.event_source.stop()\n",
    "#plt.close(\"all\")"
   ]
  },
  {
   "cell_type": "markdown",
   "metadata": {},
   "source": [
    "### 4. Двумерные траектории\n",
    "\n",
    "Также известны двумерные задачи, в которых пренебрегается сопротивление воздуха. Например, если бросить в воздух мяч с начальной скоростью $v_0$ под углом $\\theta_0$ к горизонту, то как далеко улетит мяч в горизонтальном направлении, на какую масимальную высоту он поднимется и каково будет время полёта? Предположим, что мяч брошен на ненулевой высоте $h$ от земной поверхности. Под каким углом его следует бросить, чтобы он упал на максимальном расстоянии от точки бросания? Будут ли верны наши ответы, если учесть сопротивение воздуха? Такого рода вопросы мы обсудим ниже.\n",
    "\n",
    "Рассмотрим тело массой $m$ с начальной скоростью $v_0$, направленной под углом $\\theta_0$ к горизонту (см. рис.) На материальную точку действуют сила тяжести и тормозящая сила, равные соответственно $mg$ и $F_d$, а направление последней противоположно скорости $v$ (см. рис.).\n",
    "\n",
    "<img src=\"images/flight_2d.jpg\"/>\n",
    "\n",
    "Запишем уравнения движения Ньютона для компонент $x$ и $y$:\n",
    "\n",
    "$$\\tag{4.1а} m\\frac{dv_x}{dt}=-F_dcos\\theta,$$\n",
    "$$\\tag{4.1б} m\\frac{dv_y}{dt}=-mg-F_dsin\\theta.$$\n",
    "\n",
    "В качестве примера определим максимальное расстояние от точки бросания, на которое улетит круглый стальной шар радиусом $\\approx$ 4 см. Разумно предположить, что для тела такого размера и характерной скорости (например\"ядра\") $F_d=k_2v^2$. Поскольку $v_x=v\\cdot{cos\\theta}$, а $v_y=v\\cdot{sin\\theta}$, уравнения $(4.1)$ можно переписать в виде\n",
    "\n",
    "$$\\tag{4.2а} \\frac{dv_x}{dt}=-Avv_x,$$\n",
    "$$\\tag{4.2б} \\frac{dv_y}{dt}=-g - Avv_y,$$\n",
    "\n",
    "где $A=\\frac{k_2}{m}$. Заметим, что уравнения $(4.2)$ описывающие изменения $v_x$ и $v_y$, содержат модуль скорости $v^2=v_x^2 + v_y^2$. Следовательно, невозможно найти вертикальную составляющую движения падающего тела, не зная горизонтальную.\n",
    "\n",
    "### Задание:\n",
    "#### Реализовать бросок тела под углом с заданной начальной скоростью, нарисовать графики зависимостей y(t), v(t), a(t), кинетической, потенциальной и полной энергии от времени, нарисовать анимацию движения тела без сопротивления воздуха. Неупругий удар."
   ]
  },
  {
   "cell_type": "code",
   "execution_count": 45,
   "metadata": {},
   "outputs": [],
   "source": [
    "h0 = 1\n",
    "v0 = 10\n",
    "alpha = np.pi / 6\n",
    "tau = 0.01\n",
    "g0 = 9.8\n",
    "mass = 1"
   ]
  },
  {
   "cell_type": "code",
   "execution_count": 46,
   "metadata": {},
   "outputs": [],
   "source": [
    "def falling_2d(h0, v0, alpha, g0, tau):\n",
    "    \n",
    "    h = [h0]\n",
    "    x = [0]\n",
    "    vx = v0 * np.cos(alpha)\n",
    "    vy = [v0 * np.sin(alpha)]\n",
    "    t = [0]\n",
    "    \n",
    "    while h[-1] > 0:\n",
    "        \n",
    "        vy += [vy[-1] - g0 * tau]\n",
    "        h += [h[-1] + vy[-1] * tau]\n",
    "        x += [x[-1] + vx * tau]\n",
    "        \n",
    "        t += [t[-1] + tau]\n",
    "        \n",
    "    return np.array(t), np.array(h), np.array(x), np.array(vx), np.array(vy)\n",
    "        \n",
    "        "
   ]
  },
  {
   "cell_type": "code",
   "execution_count": 47,
   "metadata": {},
   "outputs": [],
   "source": [
    "t, h, x, vx, vy = falling_2d(h0, v0, alpha, g0, tau)\n",
    "\n",
    "v = np.sqrt(vx ** 2 + vy ** 2)\n",
    "p = mass * g0 * h\n",
    "k = mass * v ** 2 / 2"
   ]
  },
  {
   "cell_type": "code",
   "execution_count": 48,
   "metadata": {},
   "outputs": [
    {
     "data": {
      "application/vnd.jupyter.widget-view+json": {
       "model_id": "adc0004da5714d818975faab0bf25404",
       "version_major": 2,
       "version_minor": 0
      },
      "text/plain": [
       "Canvas(toolbar=Toolbar(toolitems=[('Home', 'Reset original view', 'home', 'home'), ('Back', 'Back to previous …"
      ]
     },
     "metadata": {},
     "output_type": "display_data"
    }
   ],
   "source": [
    "fig, axes = plt.subplots(4, 1, figsize=(9, 30))\n",
    "\n",
    "axes[0].plot(t, h)\n",
    "axes[0].grid()\n",
    "axes[0].set_title(\"График зависимости высоты от времени\")\n",
    "axes[0].set_xlabel(\"t\")\n",
    "axes[0].set_ylabel(\"h\")\n",
    "\n",
    "axes[1].plot(t, v)\n",
    "axes[1].grid()\n",
    "axes[1].set_title(\"График зависимости скорости от времени\")\n",
    "axes[1].set_xlabel(\"t\")\n",
    "axes[1].set_ylabel(\"v\")\n",
    "\n",
    "axes[2].plot(t, p)\n",
    "axes[2].grid()\n",
    "axes[2].set_title(\"График зависимости потенциальной энергии от времени\")\n",
    "axes[2].set_xlabel(\"t\")\n",
    "axes[2].set_ylabel(\"p\")\n",
    "\n",
    "axes[3].plot(t, k)\n",
    "axes[3].grid()\n",
    "axes[3].set_title(\"График зависимости кинетической энергии от времени\")\n",
    "axes[3].set_xlabel(\"t\")\n",
    "axes[3].set_ylabel(\"k\")\n",
    "\n",
    "plt.show()\n"
   ]
  },
  {
   "cell_type": "code",
   "execution_count": 49,
   "metadata": {},
   "outputs": [],
   "source": [
    "def animation_2d(i, x, h, m):\n",
    "    \n",
    "    plt.clf()\n",
    "    \n",
    "    plt.scatter(x[i * m], h[i * m], marker='o')\n",
    "    plt.xlim(-0.2, x[-1])\n",
    "    plt.ylim(-0.2, max(h) + 0.5)\n"
   ]
  },
  {
   "cell_type": "code",
   "execution_count": 50,
   "metadata": {},
   "outputs": [
    {
     "data": {
      "application/vnd.jupyter.widget-view+json": {
       "model_id": "8f2fe9abfe094b4db3cef0b67f8d0ebf",
       "version_major": 2,
       "version_minor": 0
      },
      "text/plain": [
       "Canvas(toolbar=Toolbar(toolitems=[('Home', 'Reset original view', 'home', 'home'), ('Back', 'Back to previous …"
      ]
     },
     "metadata": {},
     "output_type": "display_data"
    }
   ],
   "source": [
    "fig = plt.figure(figsize=(5, 5))\n",
    "\n",
    "m = 1\n",
    "\n",
    "ani = animation.FuncAnimation(fig, animation_2d, frames=len(t) // m - 1, fargs=(x, h, m), repeat=False, interval=1)"
   ]
  },
  {
   "cell_type": "code",
   "execution_count": 51,
   "metadata": {},
   "outputs": [
    {
     "name": "stderr",
     "output_type": "stream",
     "text": [
      "MovieWriter ffmpeg unavailable; using Pillow instead.\n"
     ]
    }
   ],
   "source": [
    "ani.save(\"falling_2d.gif\")"
   ]
  },
  {
   "cell_type": "code",
   "execution_count": 52,
   "metadata": {},
   "outputs": [],
   "source": [
    "ani.event_source.stop()\n",
    "#plt.close(\"all\")"
   ]
  },
  {
   "cell_type": "markdown",
   "metadata": {},
   "source": [
    "### Задание:\n",
    "#### Реализовать бросок тела под углом с заданной начальной скоростью, нарисовать графики зависимостей y(t), v(t), a(t), кинетической, потенциальной и полной энергии от времени, нарисовать анимацию движения тела без сопротивления воздуха. Абсолютно упругий удар."
   ]
  },
  {
   "cell_type": "code",
   "execution_count": 53,
   "metadata": {},
   "outputs": [],
   "source": [
    "h0 = 1\n",
    "v0 = 10\n",
    "alpha = np.pi / 6\n",
    "tau = 0.001\n",
    "g0 = 9.8\n",
    "mass = 1"
   ]
  },
  {
   "cell_type": "code",
   "execution_count": 54,
   "metadata": {},
   "outputs": [],
   "source": [
    "def falling_2d_el(h0, v0, alpha, g0, tau):\n",
    "    \n",
    "    h, vx, vy, x, t = [h0], v0 * np.cos(alpha), [v0 * np.sin(alpha)], [0], [0]\n",
    "    \n",
    "    for i in range(10):\n",
    "        while h[-1] >= 0:\n",
    "\n",
    "            t += [t[-1] + tau]\n",
    "            vy += [vy[-1] - g0 * tau]\n",
    "            x += [x[-1] + vx * tau]\n",
    "            h += [h[-1] + vy[-1] * tau]\n",
    "\n",
    "        h[-1] = 0\n",
    "        vy[-1] = -min(vy[:-1])\n",
    "    \n",
    "    return np.array(t), np.array(h), np.array(x), vx, np.array(vy)"
   ]
  },
  {
   "cell_type": "code",
   "execution_count": 55,
   "metadata": {},
   "outputs": [],
   "source": [
    "t, h, x, vx, vy = falling_2d_el(h0, v0, alpha, g0, tau)\n",
    "\n",
    "v = np.sqrt(vx ** 2 + vy ** 2)\n",
    "p = mass * g0 * h\n",
    "k = mass * v ** 2 / 2"
   ]
  },
  {
   "cell_type": "code",
   "execution_count": 56,
   "metadata": {},
   "outputs": [
    {
     "data": {
      "application/vnd.jupyter.widget-view+json": {
       "model_id": "37434e1be8434b51a969db05b78863a4",
       "version_major": 2,
       "version_minor": 0
      },
      "text/plain": [
       "Canvas(toolbar=Toolbar(toolitems=[('Home', 'Reset original view', 'home', 'home'), ('Back', 'Back to previous …"
      ]
     },
     "metadata": {},
     "output_type": "display_data"
    }
   ],
   "source": [
    "fig, axes = plt.subplots(4, 1, figsize=(9, 30))\n",
    "\n",
    "axes[0].plot(t, h)\n",
    "axes[0].grid()\n",
    "axes[0].set_title(\"График зависимости высоты от времени\")\n",
    "axes[0].set_xlabel(\"t\")\n",
    "axes[0].set_ylabel(\"h\")\n",
    "\n",
    "axes[1].plot(t, v)\n",
    "axes[1].grid()\n",
    "axes[1].set_title(\"График зависимости скорости от времени\")\n",
    "axes[1].set_xlabel(\"t\")\n",
    "axes[1].set_ylabel(\"v\")\n",
    "\n",
    "axes[2].plot(t, p)\n",
    "axes[2].grid()\n",
    "axes[2].set_title(\"График зависимости потенциальной энергии от времени\")\n",
    "axes[2].set_xlabel(\"t\")\n",
    "axes[2].set_ylabel(\"p\")\n",
    "\n",
    "axes[3].plot(t, k)\n",
    "axes[3].grid()\n",
    "axes[3].set_title(\"График зависимости кинетической энергии от времени\")\n",
    "axes[3].set_xlabel(\"t\")\n",
    "axes[3].set_ylabel(\"k\")\n",
    "\n",
    "plt.show()\n"
   ]
  },
  {
   "cell_type": "code",
   "execution_count": 57,
   "metadata": {},
   "outputs": [
    {
     "data": {
      "application/vnd.jupyter.widget-view+json": {
       "model_id": "d548c552ec914dc99105f64ad7fec9ef",
       "version_major": 2,
       "version_minor": 0
      },
      "text/plain": [
       "Canvas(toolbar=Toolbar(toolitems=[('Home', 'Reset original view', 'home', 'home'), ('Back', 'Back to previous …"
      ]
     },
     "metadata": {},
     "output_type": "display_data"
    }
   ],
   "source": [
    "fig = plt.figure(figsize=(10, 5))\n",
    "\n",
    "m = 5\n",
    "\n",
    "ani = animation.FuncAnimation(fig, animation_2d, frames=len(t) // m - 1, fargs=(x, h, m), repeat=False, interval=1)"
   ]
  },
  {
   "cell_type": "code",
   "execution_count": 58,
   "metadata": {},
   "outputs": [
    {
     "name": "stderr",
     "output_type": "stream",
     "text": [
      "MovieWriter ffmpeg unavailable; using Pillow instead.\n"
     ]
    }
   ],
   "source": [
    "ani.save(\"falling_2d_el.gif\")"
   ]
  },
  {
   "cell_type": "code",
   "execution_count": 59,
   "metadata": {},
   "outputs": [],
   "source": [
    "ani.event_source.stop()\n",
    "#plt.close(\"all\")"
   ]
  },
  {
   "cell_type": "code",
   "execution_count": null,
   "metadata": {},
   "outputs": [],
   "source": []
  },
  {
   "cell_type": "code",
   "execution_count": null,
   "metadata": {},
   "outputs": [],
   "source": []
  },
  {
   "cell_type": "code",
   "execution_count": null,
   "metadata": {},
   "outputs": [],
   "source": []
  }
 ],
 "metadata": {
  "kernelspec": {
   "display_name": "Python 3",
   "language": "python",
   "name": "python3"
  },
  "language_info": {
   "codemirror_mode": {
    "name": "ipython",
    "version": 3
   },
   "file_extension": ".py",
   "mimetype": "text/x-python",
   "name": "python",
   "nbconvert_exporter": "python",
   "pygments_lexer": "ipython3",
   "version": "3.8.6rc1"
  }
 },
 "nbformat": 4,
 "nbformat_minor": 4
}
